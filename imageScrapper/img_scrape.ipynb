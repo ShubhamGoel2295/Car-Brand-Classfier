{
 "cells": [
  {
   "cell_type": "code",
   "execution_count": 1,
   "metadata": {},
   "outputs": [],
   "source": [
    "import os\n",
    "import time\n",
    "import requests\n",
    "from selenium import webdriver\n",
    "import glob\n",
    "import shutil"
   ]
  },
  {
   "cell_type": "code",
   "execution_count": 2,
   "metadata": {},
   "outputs": [],
   "source": [
    "# How to execute this code\n",
    "# Step 1 : pip install selenium. pillow, requests\n",
    "# Step 2 : make sure you have chrome installed on your machine\n",
    "# Step 3 : Check your chrome version ( go to three dot then help then about google chrome )\n",
    "# Step 4 : Download the same chrome driver from here  \" https://chromedriver.storage.googleapis.com/index.html \"\n",
    "# Step 5 : put it inside the same folder of this code"
   ]
  },
  {
   "cell_type": "code",
   "execution_count": 3,
   "metadata": {},
   "outputs": [],
   "source": [
    "def fetch_image_urls(query: str, max_links_to_fetch: int, wd: webdriver, sleep_between_interactions: int = 0):\n",
    "    def scroll_to_end(wd):\n",
    "        wd.execute_script(\"window.scrollTo(0, document.body.scrollHeight);\")\n",
    "        time.sleep(sleep_between_interactions)\n",
    "\n",
    "        # build the google query\n",
    "\n",
    "    search_url = \"https://www.google.com/search?safe=off&site=&tbm=isch&source=hp&q={q}&oq={q}&gs_l=img\"\n",
    "\n",
    "    # load the page\n",
    "    wd.get(search_url.format(q=query))\n",
    "\n",
    "    image_urls = set()\n",
    "    image_count = 0\n",
    "    results_start = 0\n",
    "    while image_count < max_links_to_fetch:\n",
    "        scroll_to_end(wd)\n",
    "\n",
    "        # get all image thumbnail results\n",
    "        thumbnail_results = wd.find_elements_by_css_selector(\"img.Q4LuWd\")\n",
    "        number_results = len(thumbnail_results)\n",
    "\n",
    "        print(f\"Found: {number_results} search results. Extracting links from {results_start}:{number_results}\")\n",
    "\n",
    "        for img in thumbnail_results[results_start:number_results]:\n",
    "            # try to click every thumbnail such that we can get the real image behind it\n",
    "            try:\n",
    "                img.click()\n",
    "                time.sleep(sleep_between_interactions)\n",
    "            except Exception:\n",
    "                continue\n",
    "\n",
    "            # extract image urls\n",
    "            actual_images = wd.find_elements_by_css_selector('img.n3VNCb')\n",
    "            for actual_image in actual_images:\n",
    "                if actual_image.get_attribute('src') and 'http' in actual_image.get_attribute('src'):\n",
    "                    image_urls.add(actual_image.get_attribute('src'))\n",
    "\n",
    "            image_count = len(image_urls)\n",
    "\n",
    "            if len(image_urls) >= max_links_to_fetch:\n",
    "                print(f\"Found: {len(image_urls)} image links, done!\")\n",
    "                break\n",
    "        else:\n",
    "            print(\"Found:\", len(image_urls), \"image links, looking for more ...\")\n",
    "            time.sleep(30)\n",
    "            return\n",
    "            load_more_button = wd.find_element_by_css_selector(\".mye4qd\")\n",
    "            if load_more_button:\n",
    "                wd.execute_script(\"document.querySelector('.mye4qd').click();\")\n",
    "\n",
    "        # move the result startpoint further down\n",
    "        results_start = len(thumbnail_results)\n",
    "\n",
    "    return image_urls"
   ]
  },
  {
   "cell_type": "code",
   "execution_count": 4,
   "metadata": {},
   "outputs": [],
   "source": [
    "def persist_image(folder_path:str,url:str, counter):\n",
    "    try:\n",
    "        image_content = requests.get(url).content\n",
    "\n",
    "    except Exception as e:\n",
    "        print(f\"ERROR - Could not download {url} - {e}\")\n",
    "\n",
    "    try:\n",
    "        f = open(os.path.join(folder_path, 'jpg' + \"_\" + str(counter) + \".jpg\"), 'wb')\n",
    "        f.write(image_content)\n",
    "        f.close()\n",
    "        print(f\"SUCCESS - saved {url} - as {folder_path}\")\n",
    "    except Exception as e:\n",
    "        print(f\"ERROR - Could not save {url} - {e}\")"
   ]
  },
  {
   "cell_type": "code",
   "execution_count": 5,
   "metadata": {},
   "outputs": [],
   "source": [
    "def search_and_download(search_term: str, driver_path: str, number_images: int, target_path='./train'):\n",
    "    target_folder = os.path.join(target_path, '_'.join(search_term.lower().split(' '))) # make the folder name inside images with the search string\n",
    "\n",
    "    if not os.path.exists(target_folder):\n",
    "        os.makedirs(target_folder) # make directory using the target path if it doesn't exist already\n",
    "\n",
    "    with webdriver.Chrome(executable_path=driver_path) as wd:\n",
    "        res = fetch_image_urls(search_term, number_images, wd=wd, sleep_between_interactions=0.5)\n",
    "\n",
    "    counter = 0\n",
    "    for elem in res:\n",
    "        persist_image(target_folder, elem, counter)\n",
    "        counter += 1"
   ]
  },
  {
   "cell_type": "code",
   "execution_count": 6,
   "metadata": {},
   "outputs": [
    {
     "data": {
      "text/plain": [
       "'C:\\\\Users\\\\egoeshu\\\\Desktop\\\\testingdoc\\\\imageScrapper'"
      ]
     },
     "execution_count": 6,
     "metadata": {},
     "output_type": "execute_result"
    }
   ],
   "source": [
    "os.getcwd()"
   ]
  },
  {
   "cell_type": "code",
   "execution_count": 7,
   "metadata": {},
   "outputs": [],
   "source": [
    "# Changing webdriver path\n",
    "\n",
    "os.chdir(r'C:\\webdrivers')"
   ]
  },
  {
   "cell_type": "code",
   "execution_count": 8,
   "metadata": {},
   "outputs": [],
   "source": [
    "import re\n",
    "\n",
    "def move_filesto_test(number_images):\n",
    "    test_folder= './test'\n",
    "\n",
    "    for dir in os.listdir(r'./train'):\n",
    "        files_list= []\n",
    "        files_list= os.listdir(os.path.join('./train', dir)) #\n",
    "        test_path= os.path.join(test_folder, dir)\n",
    "        if not os.path.exists(test_path):\n",
    "            os.makedirs(test_path) # make directory using the target path if it doesn't exist already\n",
    "        for i in files_list:\n",
    "            temp = re.findall(r'\\d+', i)  # find digits in string\n",
    "#           print(temp[0])\n",
    "            if int(temp[0])>= (number_images-25): # sending 25 images to test sata\n",
    "#             if int(temp[0])>= (number_images//3): # sending 95//3 images to test sata\n",
    "#             if int(temp[0])>=11: # showing files having number equal or greater than 11\n",
    "#               print(i)\n",
    "                for jpgfile in glob.iglob(os.path.join(os.path.join('./train', dir), i)):\n",
    "#                   shutil.copy(jpgfile, test_path)\n",
    "                    shutil.move(jpgfile, test_path)\n",
    "#                    print(jpgfile)\n",
    "                "
   ]
  },
  {
   "cell_type": "code",
   "execution_count": 12,
   "metadata": {},
   "outputs": [
    {
     "name": "stdout",
     "output_type": "stream",
     "text": [
      "Found: 100 search results. Extracting links from 0:100\n",
      "Found: 95 image links, done!\n",
      "SUCCESS - saved https://encrypted-tbn0.gstatic.com/images?q=tbn%3AANd9GcTgHCT_n4_dtjbABcsvqC699cE44MRaLCLofA&usqp=CAU - as ./train\\tesla\n",
      "SUCCESS - saved https://encrypted-tbn0.gstatic.com/images?q=tbn%3AANd9GcQtlSdAIkKnpqygXaxWACvJ2HGOLi-nA937oQ&usqp=CAU - as ./train\\tesla\n",
      "SUCCESS - saved https://tesla-cdn.thron.com/delivery/public/image/tesla/c769509d-fe25-4915-9b6f-aeab622fa522/bvlatuR/std/0x0/screen1@2_1 - as ./train\\tesla\n",
      "SUCCESS - saved https://encrypted-tbn0.gstatic.com/images?q=tbn%3AANd9GcTH-G69nd0xA1A9H60Lfo1ObxFWI8hLic0A4g&usqp=CAU - as ./train\\tesla\n",
      "SUCCESS - saved https://encrypted-tbn0.gstatic.com/images?q=tbn%3AANd9GcTSMFNq4ZRnP_IhckxIPR6FvPAw5NZ21Bv1pA&usqp=CAU - as ./train\\tesla\n",
      "SUCCESS - saved https://encrypted-tbn0.gstatic.com/images?q=tbn%3AANd9GcRVHi5iwJXdrdz4kZf-R1w0HLYZ-vv_ZrvdBg&usqp=CAU - as ./train\\tesla\n",
      "SUCCESS - saved https://encrypted-tbn0.gstatic.com/images?q=tbn%3AANd9GcQif3FCdHhYOLae-oX3H3nP5pisJ7oDZ8ovgA&usqp=CAU - as ./train\\tesla\n",
      "SUCCESS - saved https://www.tesla.com/sites/default/files/images/model-3/model-3-hero.jpg?2017 - as ./train\\tesla\n",
      "SUCCESS - saved https://encrypted-tbn0.gstatic.com/images?q=tbn%3AANd9GcT9usx3lYwzUM8koRiAsUlRyRUFdjlzXH3Qzg&usqp=CAU - as ./train\\tesla\n",
      "SUCCESS - saved https://encrypted-tbn0.gstatic.com/images?q=tbn%3AANd9GcS7eD6n0FU99bMyogZIMKScEu0v5qwMM2XSXw&usqp=CAU - as ./train\\tesla\n",
      "SUCCESS - saved https://encrypted-tbn0.gstatic.com/images?q=tbn%3AANd9GcTSotsG_7fVRoB7GhFhG61AhJqK_vBdBoexPA&usqp=CAU - as ./train\\tesla\n",
      "SUCCESS - saved https://tesla-cdn.thron.com/delivery/public/image/tesla/8d8699c5-07bb-4ae7-9b74-49bad6d197c8/bvlatuR/std/0x0/interior_hero@2 - as ./train\\tesla\n",
      "SUCCESS - saved https://encrypted-tbn0.gstatic.com/images?q=tbn%3AANd9GcQhbJ8H1S0YeWZiSZQDXHwH9t5pDESqN18TNA&usqp=CAU - as ./train\\tesla\n",
      "SUCCESS - saved https://tesla-cdn.thron.com/delivery/public/image/tesla/cabecae0-c1e1-4a65-9fff-7838a90e2836/bvlatuR/std/0x0/hero-poster_1 - as ./train\\tesla\n",
      "SUCCESS - saved https://encrypted-tbn0.gstatic.com/images?q=tbn%3AANd9GcSkss1wD_I_jMHoggWEWU1JPwbTaw1ZBLjpVw&usqp=CAU - as ./train\\tesla\n",
      "SUCCESS - saved https://specials-images.forbesimg.com/imageserve/5efa416b5f1126000639efc0/960x0.jpg?cropX1=0&cropX2=4768&cropY1=0&cropY2=3000 - as ./train\\tesla\n",
      "SUCCESS - saved https://i.insider.com/5c9d33f2ee52ef464036cac7?width=1100&format=jpeg&auto=webp - as ./train\\tesla\n",
      "SUCCESS - saved https://encrypted-tbn0.gstatic.com/images?q=tbn%3AANd9GcQopmCo5XVB2EXxVSlpIKRWBHZX1bE-Uqg36Q&usqp=CAU - as ./train\\tesla\n",
      "SUCCESS - saved https://encrypted-tbn0.gstatic.com/images?q=tbn%3AANd9GcSmg2RONoHFnf1IEAhnymH-5dD5vI65KiTPRQ&usqp=CAU - as ./train\\tesla\n",
      "SUCCESS - saved https://electrek.co/wp-content/uploads/sites/3/2020/08/Tesla-Roadster-hero.jpg?quality=82&strip=all - as ./train\\tesla\n",
      "SUCCESS - saved https://www.tesla.com/ns_videos/commerce/content/dam/tesla/tesla-shop-marketing-imagery/hero-carousel/wall-connector-gen3.jpg - as ./train\\tesla\n",
      "SUCCESS - saved https://media.wired.com/photos/5926c0518d4ebc5ab806b5c3/master/pass/TeslaSHP.jpg - as ./train\\tesla\n",
      "SUCCESS - saved https://encrypted-tbn0.gstatic.com/images?q=tbn%3AANd9GcTPNhf_eNtTBBtQFQ-7vRci7GGdO0xPws4DMQ&usqp=CAU - as ./train\\tesla\n",
      "SUCCESS - saved https://i.guim.co.uk/img/media/64735373b593af70e9b38b65eb04c908427720e1/0_143_3500_2100/master/3500.jpg?width=300&quality=85&auto=format&fit=max&s=112346c79bb8a96830917b1071c94639 - as ./train\\tesla\n",
      "SUCCESS - saved https://encrypted-tbn0.gstatic.com/images?q=tbn%3AANd9GcRlrQjPSXymhQn7nL5Lmf16wyBIqCxiBfluWg&usqp=CAU - as ./train\\tesla\n",
      "SUCCESS - saved https://ichef.bbci.co.uk/news/976/cpsprodpb/A747/production/_112332824_teslaautopilot.jpg - as ./train\\tesla\n",
      "SUCCESS - saved https://image.cnbcfm.com/api/v1/image/105926045-1590169289904gettyimages-1149766443r.jpg?v=1590169323 - as ./train\\tesla\n",
      "SUCCESS - saved https://encrypted-tbn0.gstatic.com/images?q=tbn%3AANd9GcQuAgMxsWgLqlq_VkXrcLXShOiKzLbrBwVDBg&usqp=CAU - as ./train\\tesla\n",
      "SUCCESS - saved https://tesla-cdn.thron.com/delivery/public/image/tesla/efbb6471-e1b8-4533-b41a-6df9d50c0a42/bvlatuR/std/0x0/performance-hero@2 - as ./train\\tesla\n",
      "ERROR - Could not download https://media.ed.edmunds-media.com/tesla/model-s/2019/oem/2019_tesla_model-s_sedan_performance_fq_oem_3_1600.jpg - ('Connection aborted.', OSError(\"(10060, 'WSAETIMEDOUT')\"))\n",
      "ERROR - Could not save https://media.ed.edmunds-media.com/tesla/model-s/2019/oem/2019_tesla_model-s_sedan_performance_fq_oem_3_1600.jpg - local variable 'image_content' referenced before assignment\n",
      "SUCCESS - saved https://tesla-cdn.thron.com/delivery/public/image/tesla/c566e836-ea95-462a-99c0-cb8af3553a30/bvlatuR/std/0x0/model-s-performance - as ./train\\tesla\n",
      "SUCCESS - saved https://encrypted-tbn0.gstatic.com/images?q=tbn%3AANd9GcRwYSz4mjBFJ47k_NTWzwB3jh_T7ws46Y4CrQ&usqp=CAU - as ./train\\tesla\n",
      "SUCCESS - saved https://encrypted-tbn0.gstatic.com/images?q=tbn%3AANd9GcR_lofhMktczJtauU3Wx5OMaLpDVi3blNXYGQ&usqp=CAU - as ./train\\tesla\n",
      "SUCCESS - saved https://encrypted-tbn0.gstatic.com/images?q=tbn%3AANd9GcTPcaDqEBVYw4iLzJTGHKe-HzWKl6UJSpesag&usqp=CAU - as ./train\\tesla\n",
      "SUCCESS - saved https://media.wired.com/photos/5b92c4b41bde47451109e202/16:9/w_2192,h_1233,c_limit/TeslaModelS-630933336.jpg - as ./train\\tesla\n",
      "SUCCESS - saved https://encrypted-tbn0.gstatic.com/images?q=tbn%3AANd9GcTza26-ta5_zBYhSSZF6Gg7Rf0KwH6Wbnf3ig&usqp=CAU - as ./train\\tesla\n",
      "SUCCESS - saved https://images.barrons.com/im-217261?width=620&size=1.5 - as ./train\\tesla\n",
      "SUCCESS - saved https://tesla-cdn.thron.com/delivery/public/image/tesla/469240a7-14da-46f4-a4c7-8d5998aeaf01/bvlatuR/std/0x0/charger-1@2 - as ./train\\tesla\n",
      "SUCCESS - saved https://i.ytimg.com/vi/Bmv1nslpK8s/maxresdefault.jpg - as ./train\\tesla\n",
      "SUCCESS - saved https://www.radioflyer.com/media/wysiwyg/tesla/910-model-mobile.png - as ./train\\tesla\n",
      "SUCCESS - saved https://www.insidehook.com/wp-content/uploads/2020/05/Tesla-Model-X.jpg?fit=1500%2C1000 - as ./train\\tesla\n",
      "SUCCESS - saved https://image.cnbcfm.com/api/v1/image/106069180-1565285832489tesla-hearse-front.jpg?v=1565375870&w=1400&h=950 - as ./train\\tesla\n",
      "SUCCESS - saved https://encrypted-tbn0.gstatic.com/images?q=tbn%3AANd9GcSMiEa90e88wJTf2KUWnlasjbafXYAvEnp25A&usqp=CAU - as ./train\\tesla\n",
      "SUCCESS - saved https://www.tesla.com/sites/default/files/model3-new/social/model-3-hero-social.jpg - as ./train\\tesla\n",
      "SUCCESS - saved https://encrypted-tbn0.gstatic.com/images?q=tbn%3AANd9GcT0taqCHdXbfRlb3ikKV2DgT-rBi0SM6Ut9MQ&usqp=CAU - as ./train\\tesla\n",
      "SUCCESS - saved https://encrypted-tbn0.gstatic.com/images?q=tbn%3AANd9GcSKswH3DZCnoM7jHNiicrMt99-kmbalyngkuA&usqp=CAU - as ./train\\tesla\n",
      "SUCCESS - saved https://cdn.shopify.com/s/files/1/0173/8204/7844/articles/Tesla-Model-3-Totaled-Elon-Musk-Robotaxi_1600x.jpg?v=1586544365 - as ./train\\tesla\n",
      "SUCCESS - saved https://cdn.vox-cdn.com/thumbor/HQAvCiOP-tjuOdnNi4E9bHROo8E=/1400x1050/filters:format(jpeg)/cdn.vox-cdn.com/uploads/chorus_asset/file/21867153/8.jpg - as ./train\\tesla\n",
      "SUCCESS - saved https://www.tesla.com/sites/default/files/images/roadster/roadster-social.jpg - as ./train\\tesla\n",
      "SUCCESS - saved https://encrypted-tbn0.gstatic.com/images?q=tbn%3AANd9GcSDzYAv2QUTW6aOD8N2Lvh6XOqbkLf-Afbqkw&usqp=CAU - as ./train\\tesla\n",
      "SUCCESS - saved https://cdn.vox-cdn.com/thumbor/_8W9-BYpT4-qtFafgdymfFL_BTk=/0x0:2048x1182/1200x800/filters:focal(488x541:814x867)/cdn.vox-cdn.com/uploads/chorus_image/image/66473678/EStvCm0WsAEbMCX.0.jpg - as ./train\\tesla\n",
      "SUCCESS - saved https://cdn.vox-cdn.com/thumbor/feB4I_nfFt5nVFRQlVWE2p_cS_0=/0x0:2040x1360/1200x800/filters:focal(857x517:1183x843)/cdn.vox-cdn.com/uploads/chorus_image/image/66975798/akrales_170414__1610_0149.0.jpg - as ./train\\tesla\n",
      "SUCCESS - saved https://encrypted-tbn0.gstatic.com/images?q=tbn%3AANd9GcTbF6u-gcFuOgk25ByM2XekBarcX-4OjRDFQw&usqp=CAU - as ./train\\tesla\n",
      "SUCCESS - saved https://encrypted-tbn0.gstatic.com/images?q=tbn%3AANd9GcQXdsNlmkLMFgTbQ6kD2ziHbI47_XtmyHnvbw&usqp=CAU - as ./train\\tesla\n",
      "SUCCESS - saved https://tesla-cdn.thron.com/delivery/public/image/tesla/f073ab98-ab17-4448-90e3-413109889b10/bvlatuR/std/0x0/hero@2_2 - as ./train\\tesla\n",
      "SUCCESS - saved https://i.insider.com/589353c53149a195008b4958?width=820&format=jpeg - as ./train\\tesla\n"
     ]
    },
    {
     "name": "stdout",
     "output_type": "stream",
     "text": [
      "SUCCESS - saved https://encrypted-tbn0.gstatic.com/images?q=tbn%3AANd9GcS-ov2-fsTK7bL1qhf6BaSVzoGP-h92iZMCVg&usqp=CAU - as ./train\\tesla\n",
      "SUCCESS - saved https://encrypted-tbn0.gstatic.com/images?q=tbn%3AANd9GcSpxYcX8rLLUbgB8u6ZLSqSIOaQ9U_N9GUyBw&usqp=CAU - as ./train\\tesla\n",
      "SUCCESS - saved https://cdn.cnn.com/cnnnext/dam/assets/191121212606-tesla-cybertruck-super-169.jpg - as ./train\\tesla\n",
      "SUCCESS - saved https://encrypted-tbn0.gstatic.com/images?q=tbn%3AANd9GcS0PTHtW3AH8UwEWtBiViWtUKcUB7yaXwuJqg&usqp=CAU - as ./train\\tesla\n",
      "SUCCESS - saved https://www.carscoops.com/wp-content/uploads/2020/08/Tesla-Drag-Race-1024x555.jpg - as ./train\\tesla\n",
      "SUCCESS - saved https://encrypted-tbn0.gstatic.com/images?q=tbn%3AANd9GcQSmuGng3cQ0qmApeIpgndP2q0qljJrU5br1Q&usqp=CAU - as ./train\\tesla\n",
      "SUCCESS - saved https://cnet1.cbsistatic.com/img/a17jR7KyAP4VzrCSIiZQoXjHl1A=/1200x675/2018/12/10/07e4f831-dcf0-4254-a1e6-4adf98b0846a/tesla-supercharging-ogi.jpg - as ./train\\tesla\n",
      "SUCCESS - saved https://www.cstatic-images.com/car-pictures/main/USC80TSC032A021001.png - as ./train\\tesla\n",
      "SUCCESS - saved https://media.caradvice.com.au/image/private/c_fill,q_auto,f_auto,w_400,ar_16:9/iyta0erscl8rw29o5ac7.jpg - as ./train\\tesla\n",
      "SUCCESS - saved https://hips.hearstapps.com/hmg-prod.s3.amazonaws.com/images/2022-tesla-cyber-truck-mmp-1-1579127142.jpg?crop=0.788xw:1.00xh;0.107xw,0&resize=640:* - as ./train\\tesla\n",
      "SUCCESS - saved https://encrypted-tbn0.gstatic.com/images?q=tbn%3AANd9GcRkCQVO8SqdJhPO-l0_HJrX17hIk29_q8Jbcw&usqp=CAU - as ./train\\tesla\n",
      "ERROR - Could not download https://media.ed.edmunds-media.com/tesla/model-3/2018/oem/2018_tesla_model-3_sedan_performance_fq_oem_4_815.jpg - ('Connection aborted.', OSError(\"(10060, 'WSAETIMEDOUT')\"))\n",
      "ERROR - Could not save https://media.ed.edmunds-media.com/tesla/model-3/2018/oem/2018_tesla_model-3_sedan_performance_fq_oem_4_815.jpg - local variable 'image_content' referenced before assignment\n",
      "SUCCESS - saved https://static01.nyt.com/images/2019/06/05/business/00tesla1/00tesla1-superJumbo-v2.jpg - as ./train\\tesla\n",
      "SUCCESS - saved https://encrypted-tbn0.gstatic.com/images?q=tbn%3AANd9GcR_nC8EqGi6effxFHvNmIM8Q4k3PRHxRJ2T1w&usqp=CAU - as ./train\\tesla\n",
      "SUCCESS - saved https://encrypted-tbn0.gstatic.com/images?q=tbn%3AANd9GcS7-78VKB2xSKOO6hxGSH3iID4-vRuzlTRYCw&usqp=CAU - as ./train\\tesla\n",
      "SUCCESS - saved https://encrypted-tbn0.gstatic.com/images?q=tbn%3AANd9GcTk0ZCacnf4yhEYJz8VbiDXuEHvD-MUCS7-mw&usqp=CAU - as ./train\\tesla\n",
      "SUCCESS - saved https://i.insider.com/5ef3a7271918241d8b50f4c4?width=1100&format=jpeg&auto=webp - as ./train\\tesla\n",
      "SUCCESS - saved https://encrypted-tbn0.gstatic.com/images?q=tbn%3AANd9GcRuRpnbxTnv3vYBdlJpH2uHA4lxHxtIyE2E8g&usqp=CAU - as ./train\\tesla\n",
      "SUCCESS - saved https://encrypted-tbn0.gstatic.com/images?q=tbn%3AANd9GcQvcKP2C5MUsX78uq0gV2jQ4hYXZPM4ceH92Q&usqp=CAU - as ./train\\tesla\n",
      "SUCCESS - saved https://di-uploads-pod5.dealerinspire.com/currentautomotive1/uploads/2020/07/00-HeaderFF.jpg - as ./train\\tesla\n",
      "SUCCESS - saved https://encrypted-tbn0.gstatic.com/images?q=tbn%3AANd9GcQT8WO7bZop_6aQposcOy08gME0hVMkbT9Xfg&usqp=CAU - as ./train\\tesla\n",
      "SUCCESS - saved https://encrypted-tbn0.gstatic.com/images?q=tbn%3AANd9GcQMdWJxZVxhn4bscv5fG-x1Da8iQCTU75sZ8Q&usqp=CAU - as ./train\\tesla\n",
      "SUCCESS - saved https://electrek.co/wp-content/uploads/sites/3/2020/05/Tesla-price-cuts.jpg?quality=82&strip=all - as ./train\\tesla\n",
      "SUCCESS - saved https://encrypted-tbn0.gstatic.com/images?q=tbn%3AANd9GcR29s49SId_e2ZkGDIPNlEBV1qDeb898n9pQg&usqp=CAU - as ./train\\tesla\n",
      "SUCCESS - saved https://www.ft.com/__origami/service/image/v2/images/raw/http://prod-upp-image-read.ft.com/75e8de86-49b1-11ea-aeb3-955839e06441?source=next&fit=scale-down&quality=highest&width=1440 - as ./train\\tesla\n",
      "SUCCESS - saved https://encrypted-tbn0.gstatic.com/images?q=tbn%3AANd9GcTZ7txpTh-qsKz_Tvwq9IfxPTd0iHodTyqV1g&usqp=CAU - as ./train\\tesla\n",
      "SUCCESS - saved https://encrypted-tbn0.gstatic.com/images?q=tbn%3AANd9GcTmXuT-U-gtszvsFXbUd2_0k2lArXcrsdWhHA&usqp=CAU - as ./train\\tesla\n",
      "SUCCESS - saved https://encrypted-tbn0.gstatic.com/images?q=tbn%3AANd9GcQy4sgTIhUbR5coDOWurmdu1rLXow0rUbYREg&usqp=CAU - as ./train\\tesla\n",
      "SUCCESS - saved https://cdn.shopify.com/s/files/1/0173/8204/7844/articles/Tesla-Model-S-Cheeta-Launch-Mode_1600x.jpg?v=1586427473 - as ./train\\tesla\n",
      "SUCCESS - saved https://cleantechnica.com/files/2020/04/FB_IMG_1559151533599-1.jpg - as ./train\\tesla\n",
      "SUCCESS - saved https://encrypted-tbn0.gstatic.com/images?q=tbn%3AANd9GcRYFxT223SA1VixEUp5xu-k8v9DhU8w1AGI7g&usqp=CAU - as ./train\\tesla\n",
      "SUCCESS - saved https://encrypted-tbn0.gstatic.com/images?q=tbn%3AANd9GcRS6QTHs_0SA1Sb5Mi2Jfu6o2PAlBsFzFKQaw&usqp=CAU - as ./train\\tesla\n",
      "SUCCESS - saved https://o.aolcdn.com/images/dims3/GLOB/legacy_thumbnail/800x450/format/jpg/quality/85/https://s.aolcdn.com/os/ab/_cms/2019/03/22133419/Tesla-Model-Y.jpg - as ./train\\tesla\n",
      "SUCCESS - saved https://encrypted-tbn0.gstatic.com/images?q=tbn%3AANd9GcR1kLR1j6znee-jgikLR4kN3GLgfajzuMNxgA&usqp=CAU - as ./train\\tesla\n",
      "SUCCESS - saved https://encrypted-tbn0.gstatic.com/images?q=tbn%3AANd9GcQ00J3AspQwUavnv-m_7dHTnwfjyBoFNgMRzw&usqp=CAU - as ./train\\tesla\n",
      "SUCCESS - saved https://coolmaterial.com/wp-content/uploads/2019/04/Tesla-Model-P-Pickup-Truck-Concept-8-1000x600.jpg - as ./train\\tesla\n",
      "SUCCESS - saved https://encrypted-tbn0.gstatic.com/images?q=tbn%3AANd9GcQgtl3L5_QwX6Rhk-cYB_vjvzndQH0GJvMHwA&usqp=CAU - as ./train\\tesla\n",
      "SUCCESS - saved https://i.guim.co.uk/img/media/7a0f078ae4a9358c3dd98ddcd583af19d16ab91d/0_132_4633_2779/master/4633.jpg?width=1200&height=900&quality=85&auto=format&fit=crop&s=33f0f3275a875c687c2c4d24da5d8dc4 - as ./train\\tesla\n",
      "SUCCESS - saved https://cleantechnica.com/files/2020/07/Tesla-Model-X-S-3-red-white-and-blue-David-Havasi-CleanTechnica.jpg - as ./train\\tesla\n"
     ]
    }
   ],
   "source": [
    "# driver = webdriver.Chrome()\n",
    "\n",
    "DRIVER_PATH = './chromedriver'\n",
    "# DRIVER_PATH= a\n",
    "# search_term= ['BMW', 'Mercedes', 'Lamborgini', 'Tesla']\n",
    "\n",
    "search_term = 'Tesla'\n",
    "# num of images you can pass it from here  by default it's 10 if you are not passing\n",
    "number_images = 95\n",
    "\n",
    "search_and_download(search_term= search_term, driver_path=DRIVER_PATH, number_images= number_images)\n",
    "\n",
    "# for keyword in search_term:\n",
    "#     search_and_download(search_term=keyword, driver_path=DRIVER_PATH, number_images= number_images) # method to download images\n",
    "\n",
    "move_filesto_test(number_images)"
   ]
  },
  {
   "cell_type": "code",
   "execution_count": 11,
   "metadata": {},
   "outputs": [],
   "source": [
    "move_filesto_test(50)"
   ]
  },
  {
   "cell_type": "code",
   "execution_count": 69,
   "metadata": {},
   "outputs": [
    {
     "name": "stdout",
     "output_type": "stream",
     "text": [
      "15\n"
     ]
    }
   ],
   "source": [
    "import re\n",
    "\n",
    "files_name= ['jpg 0 .jpg', 'jpg_15.jpg']\n",
    "\n",
    "for i in files_name:\n",
    "    temp = re.findall(r'\\d+', i)\n",
    "    if int(temp[0])>=10:\n",
    "        print(temp[0])"
   ]
  },
  {
   "cell_type": "code",
   "execution_count": 67,
   "metadata": {},
   "outputs": [
    {
     "data": {
      "text/plain": [
       "'1'"
      ]
     },
     "execution_count": 67,
     "metadata": {},
     "output_type": "execute_result"
    }
   ],
   "source": [
    "a= ['1']\n",
    "a[0]"
   ]
  },
  {
   "cell_type": "code",
   "execution_count": null,
   "metadata": {},
   "outputs": [],
   "source": [
    "src_dir = \"your/source/dir\"\n",
    "dst_dir = \"your/destination/dir\"\n",
    "for jpgfile in glob.iglob(os.path.join(src_dir, \"*.jpg\")):\n",
    "    shutil.copy(jpgfile, dst_dir)"
   ]
  },
  {
   "cell_type": "code",
   "execution_count": 22,
   "metadata": {},
   "outputs": [
    {
     "data": {
      "text/plain": [
       "16"
      ]
     },
     "execution_count": 22,
     "metadata": {},
     "output_type": "execute_result"
    }
   ],
   "source": [
    "a=50\n",
    "a//3"
   ]
  },
  {
   "cell_type": "code",
   "execution_count": null,
   "metadata": {},
   "outputs": [],
   "source": []
  }
 ],
 "metadata": {
  "kernelspec": {
   "display_name": "Python 3",
   "language": "python",
   "name": "python3"
  },
  "language_info": {
   "codemirror_mode": {
    "name": "ipython",
    "version": 3
   },
   "file_extension": ".py",
   "mimetype": "text/x-python",
   "name": "python",
   "nbconvert_exporter": "python",
   "pygments_lexer": "ipython3",
   "version": "3.7.6"
  }
 },
 "nbformat": 4,
 "nbformat_minor": 2
}
