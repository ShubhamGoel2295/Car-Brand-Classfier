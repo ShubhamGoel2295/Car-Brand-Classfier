{
 "cells": [
  {
   "cell_type": "code",
   "execution_count": null,
   "metadata": {
    "colab": {
     "base_uri": "https://localhost:8080/",
     "height": 118
    },
    "id": "MBNafiqVWILY",
    "outputId": "05066fb3-6a5a-4c41-e166-2b2ef20ce7fa"
   },
   "outputs": [
    {
     "name": "stdout",
     "output_type": "stream",
     "text": [
      "Requirement already satisfied: keras in /usr/local/lib/python3.6/dist-packages (2.4.3)\n",
      "Requirement already satisfied: pyyaml in /usr/local/lib/python3.6/dist-packages (from keras) (3.13)\n",
      "Requirement already satisfied: scipy>=0.14 in /usr/local/lib/python3.6/dist-packages (from keras) (1.4.1)\n",
      "Requirement already satisfied: h5py in /usr/local/lib/python3.6/dist-packages (from keras) (2.10.0)\n",
      "Requirement already satisfied: numpy>=1.9.1 in /usr/local/lib/python3.6/dist-packages (from keras) (1.18.5)\n",
      "Requirement already satisfied: six in /usr/local/lib/python3.6/dist-packages (from h5py->keras) (1.15.0)\n"
     ]
    }
   ],
   "source": [
    "pip install keras"
   ]
  },
  {
   "cell_type": "code",
   "execution_count": null,
   "metadata": {
    "id": "9YA37-YIdP5P"
   },
   "outputs": [],
   "source": [
    "# import the libraries as shown below\n",
    "\n",
    "from tensorflow.keras.layers import Input, Lambda, Dense, Flatten, Dropout\n",
    "from tensorflow.keras.models import Model\n",
    "from tensorflow.keras.applications.resnet50 import ResNet50\n",
    "from keras.applications.vgg16 import VGG16, preprocess_input\n",
    "from keras.applications.inception_v3 import InceptionV3, preprocess_input\n",
    "from tensorflow.keras.applications.resnet50 import preprocess_input\n",
    "from tensorflow.keras.preprocessing import image\n",
    "from tensorflow.keras.preprocessing.image import ImageDataGenerator,load_img\n",
    "from tensorflow.keras.models import Sequential\n",
    "import numpy as np\n",
    "from glob import glob\n",
    "import matplotlib.pyplot as plt"
   ]
  },
  {
   "cell_type": "code",
   "execution_count": null,
   "metadata": {
    "colab": {
     "base_uri": "https://localhost:8080/",
     "height": 35
    },
    "id": "e7b9-u93lAfv",
    "outputId": "2e65a8c0-e0d5-4d45-975a-b440522cb4df"
   },
   "outputs": [
    {
     "data": {
      "application/vnd.google.colaboratory.intrinsic+json": {
       "type": "string"
      },
      "text/plain": [
       "'/device:GPU:0'"
      ]
     },
     "execution_count": 2,
     "metadata": {
      "tags": []
     },
     "output_type": "execute_result"
    }
   ],
   "source": [
    "import tensorflow as tf\n",
    "tf.test.gpu_device_name()"
   ]
  },
  {
   "cell_type": "code",
   "execution_count": null,
   "metadata": {
    "colab": {
     "base_uri": "https://localhost:8080/",
     "height": 353
    },
    "id": "VPWM33co6q2c",
    "outputId": "6f1e4323-e2ed-4188-99b5-1c9a964ae2f0"
   },
   "outputs": [
    {
     "name": "stdout",
     "output_type": "stream",
     "text": [
      "Thu Sep 17 18:01:24 2020       \n",
      "+-----------------------------------------------------------------------------+\n",
      "| NVIDIA-SMI 450.66       Driver Version: 418.67       CUDA Version: 10.1     |\n",
      "|-------------------------------+----------------------+----------------------+\n",
      "| GPU  Name        Persistence-M| Bus-Id        Disp.A | Volatile Uncorr. ECC |\n",
      "| Fan  Temp  Perf  Pwr:Usage/Cap|         Memory-Usage | GPU-Util  Compute M. |\n",
      "|                               |                      |               MIG M. |\n",
      "|===============================+======================+======================|\n",
      "|   0  Tesla P100-PCIE...  Off  | 00000000:00:04.0 Off |                    0 |\n",
      "| N/A   38C    P0    32W / 250W |    359MiB / 16280MiB |      1%      Default |\n",
      "|                               |                      |                 ERR! |\n",
      "+-------------------------------+----------------------+----------------------+\n",
      "                                                                               \n",
      "+-----------------------------------------------------------------------------+\n",
      "| Processes:                                                                  |\n",
      "|  GPU   GI   CI        PID   Type   Process name                  GPU Memory |\n",
      "|        ID   ID                                                   Usage      |\n",
      "|=============================================================================|\n",
      "|  No running processes found                                                 |\n",
      "+-----------------------------------------------------------------------------+\n"
     ]
    }
   ],
   "source": [
    "!nvidia-smi"
   ]
  },
  {
   "cell_type": "code",
   "execution_count": null,
   "metadata": {
    "colab": {
     "base_uri": "https://localhost:8080/",
     "height": 35
    },
    "id": "jGuhpl7wlKNd",
    "outputId": "07ae67a5-63f2-46a8-cc52-6732e7ae3c48"
   },
   "outputs": [
    {
     "data": {
      "application/vnd.google.colaboratory.intrinsic+json": {
       "type": "string"
      },
      "text/plain": [
       "'2.3.0'"
      ]
     },
     "execution_count": 4,
     "metadata": {
      "tags": []
     },
     "output_type": "execute_result"
    }
   ],
   "source": [
    "tf.__version__ "
   ]
  },
  {
   "cell_type": "code",
   "execution_count": null,
   "metadata": {
    "id": "Q_w7u0IWlLFb"
   },
   "outputs": [],
   "source": [
    "# re-size all the images to this\n",
    "IMAGE_SIZE = [224, 224]\n",
    "\n",
    "train_path= '/content/drive/My Drive/colab Dataset/train'\n",
    "valid_path= '/content/drive/My Drive/colab Dataset/test'"
   ]
  },
  {
   "cell_type": "code",
   "execution_count": null,
   "metadata": {
    "colab": {
     "base_uri": "https://localhost:8080/",
     "height": 50
    },
    "id": "KIHxnuel2fU9",
    "outputId": "7aad9e44-8ec0-41b0-d504-2bac48e3e03b"
   },
   "outputs": [
    {
     "name": "stdout",
     "output_type": "stream",
     "text": [
      "Downloading data from https://storage.googleapis.com/tensorflow/keras-applications/vgg16/vgg16_weights_tf_dim_ordering_tf_kernels_notop.h5\n",
      "58892288/58889256 [==============================] - 1s 0us/step\n"
     ]
    }
   ],
   "source": [
    "# Import the Vgg 16 library as shown below and add preprocessing layer to the front of VGG\n",
    "# Here we will be using imagenet weights\n",
    "\n",
    "vgg= VGG16(input_shape= IMAGE_SIZE+[3], weights='imagenet', include_top=False)\n",
    "\n",
    "# resnet = ResNet50(input_shape=IMAGE_SIZE + [3], weights='imagenet', include_top=False)\n",
    "\n",
    "# inception= InceptionV3(input_shape=IMAGE_SIZE + [3], weights='imagenet', include_top=False)"
   ]
  },
  {
   "cell_type": "code",
   "execution_count": null,
   "metadata": {
    "id": "69fblcCd3JBq"
   },
   "outputs": [],
   "source": [
    "# don't train existing weights\n",
    "\n",
    "for layer in vgg.layers:\n",
    "  layer.trainable= False\n",
    "\n",
    "# for layer in resnet.layers:\n",
    "#     layer.trainable = False\n",
    "\n",
    "# for layer in inception.layers:\n",
    "#     layer.trainable = False"
   ]
  },
  {
   "cell_type": "code",
   "execution_count": null,
   "metadata": {
    "id": "ryqkAjYM3a6y"
   },
   "outputs": [],
   "source": [
    "  # useful for getting number of output classes\n",
    "folders = glob('/content/drive/My Drive/colab Dataset/train/*')"
   ]
  },
  {
   "cell_type": "code",
   "execution_count": null,
   "metadata": {
    "colab": {
     "base_uri": "https://localhost:8080/",
     "height": 84
    },
    "id": "E83rFPFx_2eS",
    "outputId": "ebe403b5-96c9-4d4f-d54f-ed05c33d99bf"
   },
   "outputs": [
    {
     "data": {
      "text/plain": [
       "['/content/drive/My Drive/colab Dataset/train/bmw',\n",
       " '/content/drive/My Drive/colab Dataset/train/lamborgini',\n",
       " '/content/drive/My Drive/colab Dataset/train/mercedes',\n",
       " '/content/drive/My Drive/colab Dataset/train/tesla']"
      ]
     },
     "execution_count": 9,
     "metadata": {
      "tags": []
     },
     "output_type": "execute_result"
    }
   ],
   "source": [
    "sorted(folders)"
   ]
  },
  {
   "cell_type": "code",
   "execution_count": null,
   "metadata": {
    "colab": {
     "base_uri": "https://localhost:8080/",
     "height": 84
    },
    "id": "cgMs7lAs7D-b",
    "outputId": "0d7561e9-8693-40ab-945a-bdcbc5fea597"
   },
   "outputs": [
    {
     "data": {
      "text/plain": [
       "['/content/drive/My Drive/colab Dataset/test/mercedes',\n",
       " '/content/drive/My Drive/colab Dataset/test/tesla',\n",
       " '/content/drive/My Drive/colab Dataset/test/bmw',\n",
       " '/content/drive/My Drive/colab Dataset/test/lamborgini']"
      ]
     },
     "execution_count": 10,
     "metadata": {
      "tags": []
     },
     "output_type": "execute_result"
    }
   ],
   "source": [
    "test_folders = glob('/content/drive/My Drive/colab Dataset/test/*')\n",
    "test_folders"
   ]
  },
  {
   "cell_type": "code",
   "execution_count": null,
   "metadata": {
    "id": "Kb0z1sR93ft-"
   },
   "outputs": [],
   "source": [
    "# our layers - you can add more if you want\n",
    "\n",
    "# x = Flatten()(resnet.output)\n",
    "\n",
    "x= Flatten()(vgg.output)\n",
    "\n",
    "# x = Flatten()(inception.output)"
   ]
  },
  {
   "cell_type": "code",
   "execution_count": null,
   "metadata": {
    "colab": {
     "base_uri": "https://localhost:8080/",
     "height": 34
    },
    "id": "VlJFIA4b2Hhk",
    "outputId": "ef2425ab-3ced-40ae-b955-32528ccabeae"
   },
   "outputs": [
    {
     "data": {
      "text/plain": [
       "<tf.Tensor 'input_1:0' shape=(None, 224, 224, 3) dtype=float32>"
      ]
     },
     "execution_count": 12,
     "metadata": {
      "tags": []
     },
     "output_type": "execute_result"
    }
   ],
   "source": [
    "vgg.input"
   ]
  },
  {
   "cell_type": "code",
   "execution_count": null,
   "metadata": {
    "colab": {
     "base_uri": "https://localhost:8080/",
     "height": 34
    },
    "id": "MEuMmSxF32-w",
    "outputId": "18fa8da4-caf2-4806-d9f5-f22c27553674"
   },
   "outputs": [
    {
     "data": {
      "text/plain": [
       "<tf.Tensor 'block5_pool/MaxPool:0' shape=(None, 7, 7, 512) dtype=float32>"
      ]
     },
     "execution_count": 13,
     "metadata": {
      "tags": []
     },
     "output_type": "execute_result"
    }
   ],
   "source": [
    "vgg.output"
   ]
  },
  {
   "cell_type": "code",
   "execution_count": null,
   "metadata": {
    "colab": {
     "base_uri": "https://localhost:8080/",
     "height": 34
    },
    "id": "U95HG-G533Mt",
    "outputId": "26f43ca3-77a0-4723-90f6-fcf1e150677c"
   },
   "outputs": [
    {
     "data": {
      "text/plain": [
       "<tf.Tensor 'flatten/Reshape:0' shape=(None, 25088) dtype=float32>"
      ]
     },
     "execution_count": 14,
     "metadata": {
      "tags": []
     },
     "output_type": "execute_result"
    }
   ],
   "source": [
    "x"
   ]
  },
  {
   "cell_type": "code",
   "execution_count": null,
   "metadata": {
    "id": "GZje33KF4JnO"
   },
   "outputs": [],
   "source": [
    "x= Dense(4096, activation='relu')(x)\n",
    "x = Dropout(0.5)(x)\n",
    "x= Dense(4096, activation='relu')(x)\n",
    "x = Dropout(0.5)(x)\n",
    "x= Dense(4096, activation='relu')(x)\n",
    "x = Dropout(0.5)(x)"
   ]
  },
  {
   "cell_type": "code",
   "execution_count": null,
   "metadata": {
    "id": "35z1p8hn3pnv"
   },
   "outputs": [],
   "source": [
    "prediction = Dense(len(folders), activation='softmax')(x)\n",
    "\n",
    "# create a model object\n",
    "\n",
    "# model = Model(inputs=resnet.input, outputs=prediction)\n",
    "\n",
    "model= Model(inputs= vgg.input, outputs= prediction)\n",
    "\n",
    "# model = Model(inputs=inception.input, outputs=prediction)"
   ]
  },
  {
   "cell_type": "code",
   "execution_count": null,
   "metadata": {
    "colab": {
     "base_uri": "https://localhost:8080/",
     "height": 34
    },
    "id": "MenWXK90voep",
    "outputId": "c3626cbb-2bd6-4667-c2c7-bae848573ff5"
   },
   "outputs": [
    {
     "data": {
      "text/plain": [
       "tensorflow.python.framework.ops.Tensor"
      ]
     },
     "execution_count": 17,
     "metadata": {
      "tags": []
     },
     "output_type": "execute_result"
    }
   ],
   "source": [
    "type(prediction)"
   ]
  },
  {
   "cell_type": "code",
   "execution_count": null,
   "metadata": {
    "colab": {
     "base_uri": "https://localhost:8080/",
     "height": 34
    },
    "id": "i4ZmgfTg2QfP",
    "outputId": "d0067651-0634-49f6-c120-99da3d6ceffc"
   },
   "outputs": [
    {
     "data": {
      "text/plain": [
       "<tf.Tensor 'dense_3/Softmax:0' shape=(None, 4) dtype=float32>"
      ]
     },
     "execution_count": 18,
     "metadata": {
      "tags": []
     },
     "output_type": "execute_result"
    }
   ],
   "source": [
    "prediction"
   ]
  },
  {
   "cell_type": "code",
   "execution_count": null,
   "metadata": {
    "colab": {
     "base_uri": "https://localhost:8080/",
     "height": 1000
    },
    "id": "0-R0lsG93242",
    "outputId": "9f4a2239-cdcf-4157-8a4f-ad604b4c60d2"
   },
   "outputs": [
    {
     "name": "stdout",
     "output_type": "stream",
     "text": [
      "Model: \"functional_1\"\n",
      "_________________________________________________________________\n",
      "Layer (type)                 Output Shape              Param #   \n",
      "=================================================================\n",
      "input_1 (InputLayer)         [(None, 224, 224, 3)]     0         \n",
      "_________________________________________________________________\n",
      "block1_conv1 (Conv2D)        (None, 224, 224, 64)      1792      \n",
      "_________________________________________________________________\n",
      "block1_conv2 (Conv2D)        (None, 224, 224, 64)      36928     \n",
      "_________________________________________________________________\n",
      "block1_pool (MaxPooling2D)   (None, 112, 112, 64)      0         \n",
      "_________________________________________________________________\n",
      "block2_conv1 (Conv2D)        (None, 112, 112, 128)     73856     \n",
      "_________________________________________________________________\n",
      "block2_conv2 (Conv2D)        (None, 112, 112, 128)     147584    \n",
      "_________________________________________________________________\n",
      "block2_pool (MaxPooling2D)   (None, 56, 56, 128)       0         \n",
      "_________________________________________________________________\n",
      "block3_conv1 (Conv2D)        (None, 56, 56, 256)       295168    \n",
      "_________________________________________________________________\n",
      "block3_conv2 (Conv2D)        (None, 56, 56, 256)       590080    \n",
      "_________________________________________________________________\n",
      "block3_conv3 (Conv2D)        (None, 56, 56, 256)       590080    \n",
      "_________________________________________________________________\n",
      "block3_pool (MaxPooling2D)   (None, 28, 28, 256)       0         \n",
      "_________________________________________________________________\n",
      "block4_conv1 (Conv2D)        (None, 28, 28, 512)       1180160   \n",
      "_________________________________________________________________\n",
      "block4_conv2 (Conv2D)        (None, 28, 28, 512)       2359808   \n",
      "_________________________________________________________________\n",
      "block4_conv3 (Conv2D)        (None, 28, 28, 512)       2359808   \n",
      "_________________________________________________________________\n",
      "block4_pool (MaxPooling2D)   (None, 14, 14, 512)       0         \n",
      "_________________________________________________________________\n",
      "block5_conv1 (Conv2D)        (None, 14, 14, 512)       2359808   \n",
      "_________________________________________________________________\n",
      "block5_conv2 (Conv2D)        (None, 14, 14, 512)       2359808   \n",
      "_________________________________________________________________\n",
      "block5_conv3 (Conv2D)        (None, 14, 14, 512)       2359808   \n",
      "_________________________________________________________________\n",
      "block5_pool (MaxPooling2D)   (None, 7, 7, 512)         0         \n",
      "_________________________________________________________________\n",
      "flatten (Flatten)            (None, 25088)             0         \n",
      "_________________________________________________________________\n",
      "dense (Dense)                (None, 4096)              102764544 \n",
      "_________________________________________________________________\n",
      "dropout (Dropout)            (None, 4096)              0         \n",
      "_________________________________________________________________\n",
      "dense_1 (Dense)              (None, 4096)              16781312  \n",
      "_________________________________________________________________\n",
      "dropout_1 (Dropout)          (None, 4096)              0         \n",
      "_________________________________________________________________\n",
      "dense_2 (Dense)              (None, 4096)              16781312  \n",
      "_________________________________________________________________\n",
      "dropout_2 (Dropout)          (None, 4096)              0         \n",
      "_________________________________________________________________\n",
      "dense_3 (Dense)              (None, 4)                 16388     \n",
      "=================================================================\n",
      "Total params: 151,058,244\n",
      "Trainable params: 136,343,556\n",
      "Non-trainable params: 14,714,688\n",
      "_________________________________________________________________\n"
     ]
    }
   ],
   "source": [
    "# view the structure of the model\n",
    "model.summary()"
   ]
  },
  {
   "cell_type": "code",
   "execution_count": null,
   "metadata": {
    "id": "g7_2WEex4qcC"
   },
   "outputs": [],
   "source": [
    "# tell the model what cost and optimization method to use\n",
    "model.compile(\n",
    "  loss='categorical_crossentropy',\n",
    "  optimizer='adam',\n",
    "  metrics=['accuracy']\n",
    ")\n"
   ]
  },
  {
   "cell_type": "code",
   "execution_count": null,
   "metadata": {
    "id": "-AN0q9I65GJF"
   },
   "outputs": [],
   "source": [
    "# Use the Image Data Generator to import the images from the dataset\n",
    "from tensorflow.keras.preprocessing.image import ImageDataGenerator\n",
    "\n",
    "# train_datagen = ImageDataGenerator(featurewise_center=True,\n",
    "#                                    rotation_range=20,\n",
    "#                                    width_shift_range=0.2,\n",
    "#                                   height_shift_range=0.2,\n",
    "#                                    rescale = 1./255,\n",
    "#                                    shear_range = 0.2,\n",
    "#                                    zoom_range = 0.2,\n",
    "#                                    horizontal_flip = True)\n",
    "\n",
    "train_datagen = ImageDataGenerator(\n",
    "        rescale=1./255,\n",
    "        shear_range=0.2,\n",
    "        zoom_range=0.2,\n",
    "        horizontal_flip=True)\n",
    "\n",
    "\n",
    "test_datagen = ImageDataGenerator(rescale = 1./255)"
   ]
  },
  {
   "cell_type": "code",
   "execution_count": null,
   "metadata": {
    "colab": {
     "base_uri": "https://localhost:8080/",
     "height": 34
    },
    "id": "9Org24845NRx",
    "outputId": "36ffc2ce-3bc2-4873-9f80-18132861dfa7"
   },
   "outputs": [
    {
     "name": "stdout",
     "output_type": "stream",
     "text": [
      "Found 278 images belonging to 4 classes.\n"
     ]
    }
   ],
   "source": [
    "# Make sure you provide the same target size as initialied for the image size\n",
    "training_set = train_datagen.flow_from_directory('/content/drive/My Drive/colab Dataset/train',\n",
    "                                                 target_size = (224, 224),\n",
    "                                                 batch_size = 16,\n",
    "                                              class_mode = 'categorical')"
   ]
  },
  {
   "cell_type": "code",
   "execution_count": null,
   "metadata": {
    "colab": {
     "base_uri": "https://localhost:8080/",
     "height": 34
    },
    "id": "y6ReDcR4BzLN",
    "outputId": "4a28f490-b260-4058-8161-9d5abf44096a"
   },
   "outputs": [
    {
     "data": {
      "text/plain": [
       "{'bmw': 0, 'lamborgini': 1, 'mercedes': 2, 'tesla': 3}"
      ]
     },
     "execution_count": 23,
     "metadata": {
      "tags": []
     },
     "output_type": "execute_result"
    }
   ],
   "source": [
    "training_set.class_indices"
   ]
  },
  {
   "cell_type": "code",
   "execution_count": null,
   "metadata": {
    "colab": {
     "base_uri": "https://localhost:8080/",
     "height": 34
    },
    "id": "9Q52bA1t9J0A",
    "outputId": "250fb859-2d7a-4e73-ced8-9f365493a2f5"
   },
   "outputs": [
    {
     "data": {
      "text/plain": [
       "18"
      ]
     },
     "execution_count": 24,
     "metadata": {
      "tags": []
     },
     "output_type": "execute_result"
    }
   ],
   "source": [
    "len(training_set)"
   ]
  },
  {
   "cell_type": "code",
   "execution_count": null,
   "metadata": {
    "colab": {
     "base_uri": "https://localhost:8080/",
     "height": 34
    },
    "id": "mtS3aExy5xdb",
    "outputId": "57e94fb0-5cf5-4dd9-858e-1086856987f2"
   },
   "outputs": [
    {
     "name": "stdout",
     "output_type": "stream",
     "text": [
      "Found 100 images belonging to 4 classes.\n"
     ]
    }
   ],
   "source": [
    "test_set = test_datagen.flow_from_directory('/content/drive/My Drive/colab Dataset/test',\n",
    "                                            target_size = (224, 224),\n",
    "                                            batch_size = 16,\n",
    "                                            class_mode = 'categorical')"
   ]
  },
  {
   "cell_type": "code",
   "execution_count": null,
   "metadata": {
    "colab": {
     "base_uri": "https://localhost:8080/",
     "height": 34
    },
    "id": "Bb9AJ7v99RDo",
    "outputId": "46d9b9e3-0349-40bc-a8a7-5297f5007041"
   },
   "outputs": [
    {
     "data": {
      "text/plain": [
       "7"
      ]
     },
     "execution_count": 26,
     "metadata": {
      "tags": []
     },
     "output_type": "execute_result"
    }
   ],
   "source": [
    "\n",
    "len(test_set) # (totalimages/batch_size)"
   ]
  },
  {
   "cell_type": "code",
   "execution_count": null,
   "metadata": {
    "colab": {
     "base_uri": "https://localhost:8080/",
     "height": 34
    },
    "id": "GoqIBYtGCH0K",
    "outputId": "ac85876e-deb0-4017-8251-a49eeb0a198c"
   },
   "outputs": [
    {
     "data": {
      "text/plain": [
       "{'bmw': 0, 'lamborgini': 1, 'mercedes': 2, 'tesla': 3}"
      ]
     },
     "execution_count": 27,
     "metadata": {
      "tags": []
     },
     "output_type": "execute_result"
    }
   ],
   "source": [
    "test_set.class_indices"
   ]
  },
  {
   "cell_type": "code",
   "execution_count": null,
   "metadata": {
    "colab": {
     "base_uri": "https://localhost:8080/",
     "height": 1000
    },
    "id": "H-5xeb_B547v",
    "outputId": "c7cb9dfc-b1f2-4f55-e81d-6f754f1111e1"
   },
   "outputs": [
    {
     "name": "stdout",
     "output_type": "stream",
     "text": [
      "WARNING:tensorflow:From <ipython-input-28-257cad1c5a6b>:8: Model.fit_generator (from tensorflow.python.keras.engine.training) is deprecated and will be removed in a future version.\n",
      "Instructions for updating:\n",
      "Please use Model.fit, which supports generators.\n",
      "Epoch 1/100\n",
      "18/18 [==============================] - 261s 15s/step - loss: 13.5264 - accuracy: 0.2770 - val_loss: 1.6758 - val_accuracy: 0.3200\n",
      "Epoch 2/100\n",
      "18/18 [==============================] - 7s 374ms/step - loss: 2.2088 - accuracy: 0.2554 - val_loss: 1.6234 - val_accuracy: 0.2700\n",
      "Epoch 3/100\n",
      "18/18 [==============================] - 7s 371ms/step - loss: 1.4987 - accuracy: 0.4065 - val_loss: 1.0920 - val_accuracy: 0.6100\n",
      "Epoch 4/100\n",
      "18/18 [==============================] - 7s 370ms/step - loss: 1.2947 - accuracy: 0.4604 - val_loss: 1.0238 - val_accuracy: 0.5500\n",
      "Epoch 5/100\n",
      "18/18 [==============================] - 7s 371ms/step - loss: 0.9883 - accuracy: 0.5827 - val_loss: 0.9150 - val_accuracy: 0.6500\n",
      "Epoch 6/100\n",
      "18/18 [==============================] - 7s 373ms/step - loss: 0.9339 - accuracy: 0.6871 - val_loss: 0.8311 - val_accuracy: 0.7300\n",
      "Epoch 7/100\n",
      "18/18 [==============================] - 7s 384ms/step - loss: 0.7935 - accuracy: 0.7014 - val_loss: 1.0089 - val_accuracy: 0.6700\n",
      "Epoch 8/100\n",
      "18/18 [==============================] - 7s 370ms/step - loss: 0.9846 - accuracy: 0.6547 - val_loss: 0.7749 - val_accuracy: 0.7400\n",
      "Epoch 9/100\n",
      "18/18 [==============================] - 7s 371ms/step - loss: 0.8951 - accuracy: 0.7158 - val_loss: 0.7183 - val_accuracy: 0.7200\n",
      "Epoch 10/100\n",
      "18/18 [==============================] - 7s 378ms/step - loss: 0.8085 - accuracy: 0.6871 - val_loss: 0.7742 - val_accuracy: 0.6500\n",
      "Epoch 11/100\n",
      "18/18 [==============================] - 7s 370ms/step - loss: 0.8904 - accuracy: 0.6871 - val_loss: 0.7017 - val_accuracy: 0.7500\n",
      "Epoch 12/100\n",
      "18/18 [==============================] - 7s 380ms/step - loss: 0.5642 - accuracy: 0.7770 - val_loss: 0.8063 - val_accuracy: 0.7000\n",
      "Epoch 13/100\n",
      "18/18 [==============================] - 7s 391ms/step - loss: 0.5644 - accuracy: 0.7734 - val_loss: 0.7138 - val_accuracy: 0.7500\n",
      "Epoch 14/100\n",
      "18/18 [==============================] - 7s 374ms/step - loss: 0.6461 - accuracy: 0.7842 - val_loss: 0.5594 - val_accuracy: 0.7900\n",
      "Epoch 15/100\n",
      "18/18 [==============================] - 7s 379ms/step - loss: 0.5323 - accuracy: 0.7986 - val_loss: 0.5597 - val_accuracy: 0.7500\n",
      "Epoch 16/100\n",
      "18/18 [==============================] - 7s 365ms/step - loss: 0.5609 - accuracy: 0.8129 - val_loss: 0.5473 - val_accuracy: 0.8100\n",
      "Epoch 17/100\n",
      "18/18 [==============================] - 7s 362ms/step - loss: 0.5593 - accuracy: 0.7806 - val_loss: 0.6458 - val_accuracy: 0.7500\n",
      "Epoch 18/100\n",
      "18/18 [==============================] - 7s 371ms/step - loss: 0.7544 - accuracy: 0.7230 - val_loss: 0.6411 - val_accuracy: 0.7600\n",
      "Epoch 19/100\n",
      "18/18 [==============================] - 7s 373ms/step - loss: 0.5988 - accuracy: 0.7734 - val_loss: 0.6283 - val_accuracy: 0.7700\n",
      "Epoch 20/100\n",
      "18/18 [==============================] - 7s 378ms/step - loss: 0.6087 - accuracy: 0.7590 - val_loss: 0.5694 - val_accuracy: 0.8000\n",
      "Epoch 21/100\n",
      "18/18 [==============================] - 7s 370ms/step - loss: 0.5027 - accuracy: 0.8058 - val_loss: 0.6164 - val_accuracy: 0.8000\n",
      "Epoch 22/100\n",
      "18/18 [==============================] - 7s 376ms/step - loss: 0.5241 - accuracy: 0.7914 - val_loss: 0.5928 - val_accuracy: 0.7700\n",
      "Epoch 23/100\n",
      "18/18 [==============================] - 7s 379ms/step - loss: 0.3672 - accuracy: 0.8849 - val_loss: 0.5086 - val_accuracy: 0.8200\n",
      "Epoch 24/100\n",
      "18/18 [==============================] - 7s 379ms/step - loss: 0.4432 - accuracy: 0.8453 - val_loss: 0.5967 - val_accuracy: 0.7500\n",
      "Epoch 25/100\n",
      "18/18 [==============================] - 7s 369ms/step - loss: 0.7342 - accuracy: 0.7842 - val_loss: 1.0208 - val_accuracy: 0.6400\n",
      "Epoch 26/100\n",
      "18/18 [==============================] - 7s 370ms/step - loss: 0.5693 - accuracy: 0.7842 - val_loss: 0.7255 - val_accuracy: 0.6900\n",
      "Epoch 27/100\n",
      "18/18 [==============================] - 7s 367ms/step - loss: 0.3799 - accuracy: 0.8597 - val_loss: 0.6238 - val_accuracy: 0.7900\n",
      "Epoch 28/100\n",
      "18/18 [==============================] - 7s 377ms/step - loss: 0.4152 - accuracy: 0.8669 - val_loss: 0.8542 - val_accuracy: 0.7200\n",
      "Epoch 29/100\n",
      "18/18 [==============================] - 7s 372ms/step - loss: 0.4601 - accuracy: 0.8525 - val_loss: 0.5167 - val_accuracy: 0.7900\n",
      "Epoch 30/100\n",
      "18/18 [==============================] - 7s 373ms/step - loss: 0.4109 - accuracy: 0.8417 - val_loss: 0.4623 - val_accuracy: 0.7900\n",
      "Epoch 31/100\n",
      "18/18 [==============================] - 7s 375ms/step - loss: 0.4559 - accuracy: 0.8417 - val_loss: 0.4711 - val_accuracy: 0.8300\n",
      "Epoch 32/100\n",
      "18/18 [==============================] - 7s 378ms/step - loss: 0.5544 - accuracy: 0.8165 - val_loss: 0.5950 - val_accuracy: 0.7900\n",
      "Epoch 33/100\n",
      "18/18 [==============================] - 7s 380ms/step - loss: 0.4576 - accuracy: 0.8309 - val_loss: 0.5297 - val_accuracy: 0.8000\n",
      "Epoch 34/100\n",
      "18/18 [==============================] - 7s 392ms/step - loss: 0.4338 - accuracy: 0.8561 - val_loss: 0.7419 - val_accuracy: 0.7600\n",
      "Epoch 35/100\n",
      "18/18 [==============================] - 7s 383ms/step - loss: 0.4777 - accuracy: 0.8453 - val_loss: 0.6164 - val_accuracy: 0.7300\n",
      "Epoch 36/100\n",
      "18/18 [==============================] - 7s 387ms/step - loss: 0.6180 - accuracy: 0.7446 - val_loss: 0.6308 - val_accuracy: 0.7900\n",
      "Epoch 37/100\n",
      "18/18 [==============================] - 7s 375ms/step - loss: 0.4334 - accuracy: 0.8453 - val_loss: 0.7033 - val_accuracy: 0.7400\n",
      "Epoch 38/100\n",
      "18/18 [==============================] - 7s 375ms/step - loss: 0.3268 - accuracy: 0.8957 - val_loss: 0.4987 - val_accuracy: 0.8300\n",
      "Epoch 39/100\n",
      "18/18 [==============================] - 7s 375ms/step - loss: 0.3549 - accuracy: 0.8741 - val_loss: 0.5885 - val_accuracy: 0.7900\n",
      "Epoch 40/100\n",
      "18/18 [==============================] - 7s 368ms/step - loss: 0.3993 - accuracy: 0.8669 - val_loss: 0.5170 - val_accuracy: 0.8500\n",
      "Epoch 41/100\n",
      "18/18 [==============================] - 7s 377ms/step - loss: 0.3518 - accuracy: 0.8597 - val_loss: 0.5712 - val_accuracy: 0.8600\n",
      "Epoch 42/100\n",
      "18/18 [==============================] - 7s 374ms/step - loss: 0.3084 - accuracy: 0.8633 - val_loss: 0.7824 - val_accuracy: 0.8100\n",
      "Epoch 43/100\n",
      "18/18 [==============================] - 7s 365ms/step - loss: 0.4146 - accuracy: 0.8741 - val_loss: 0.5335 - val_accuracy: 0.8100\n",
      "Epoch 44/100\n",
      "18/18 [==============================] - 7s 365ms/step - loss: 0.4606 - accuracy: 0.8381 - val_loss: 0.5723 - val_accuracy: 0.8500\n",
      "Epoch 45/100\n",
      "18/18 [==============================] - 7s 387ms/step - loss: 0.4295 - accuracy: 0.8597 - val_loss: 0.9041 - val_accuracy: 0.7600\n",
      "Epoch 46/100\n",
      "18/18 [==============================] - 7s 376ms/step - loss: 0.6161 - accuracy: 0.7986 - val_loss: 0.6448 - val_accuracy: 0.7800\n",
      "Epoch 47/100\n",
      "18/18 [==============================] - 7s 374ms/step - loss: 0.4466 - accuracy: 0.8165 - val_loss: 0.5675 - val_accuracy: 0.7900\n",
      "Epoch 48/100\n",
      "18/18 [==============================] - 7s 373ms/step - loss: 0.4179 - accuracy: 0.8597 - val_loss: 0.6302 - val_accuracy: 0.8000\n",
      "Epoch 49/100\n",
      "18/18 [==============================] - 7s 373ms/step - loss: 0.4793 - accuracy: 0.8453 - val_loss: 0.5238 - val_accuracy: 0.8500\n",
      "Epoch 50/100\n",
      "18/18 [==============================] - 7s 381ms/step - loss: 0.3847 - accuracy: 0.8453 - val_loss: 0.7447 - val_accuracy: 0.8000\n",
      "Epoch 51/100\n",
      "18/18 [==============================] - 7s 368ms/step - loss: 0.5807 - accuracy: 0.7986 - val_loss: 0.9311 - val_accuracy: 0.7300\n",
      "Epoch 52/100\n",
      "18/18 [==============================] - 7s 377ms/step - loss: 0.6185 - accuracy: 0.7554 - val_loss: 0.6437 - val_accuracy: 0.7600\n",
      "Epoch 53/100\n",
      "18/18 [==============================] - 7s 378ms/step - loss: 0.6193 - accuracy: 0.7770 - val_loss: 0.5842 - val_accuracy: 0.7600\n",
      "Epoch 54/100\n",
      "18/18 [==============================] - 7s 384ms/step - loss: 0.4448 - accuracy: 0.8417 - val_loss: 0.5970 - val_accuracy: 0.8000\n",
      "Epoch 55/100\n",
      "18/18 [==============================] - 7s 378ms/step - loss: 0.4238 - accuracy: 0.8633 - val_loss: 0.6060 - val_accuracy: 0.7900\n",
      "Epoch 56/100\n",
      "18/18 [==============================] - 6s 357ms/step - loss: 0.4592 - accuracy: 0.8669 - val_loss: 0.5536 - val_accuracy: 0.8300\n",
      "Epoch 57/100\n",
      "18/18 [==============================] - 7s 382ms/step - loss: 0.4426 - accuracy: 0.8489 - val_loss: 0.7403 - val_accuracy: 0.8000\n",
      "Epoch 58/100\n",
      "18/18 [==============================] - 7s 386ms/step - loss: 0.3182 - accuracy: 0.8633 - val_loss: 0.7138 - val_accuracy: 0.8300\n",
      "Epoch 59/100\n",
      "18/18 [==============================] - 7s 374ms/step - loss: 0.5151 - accuracy: 0.8165 - val_loss: 0.6572 - val_accuracy: 0.7900\n",
      "Epoch 60/100\n",
      "18/18 [==============================] - 7s 369ms/step - loss: 0.4178 - accuracy: 0.8525 - val_loss: 0.5659 - val_accuracy: 0.8000\n",
      "Epoch 61/100\n",
      "18/18 [==============================] - 7s 375ms/step - loss: 0.4528 - accuracy: 0.8273 - val_loss: 0.6417 - val_accuracy: 0.8300\n",
      "Epoch 62/100\n",
      "18/18 [==============================] - 6s 358ms/step - loss: 0.3918 - accuracy: 0.8669 - val_loss: 0.6740 - val_accuracy: 0.8100\n",
      "Epoch 63/100\n",
      "18/18 [==============================] - 7s 375ms/step - loss: 0.3066 - accuracy: 0.8957 - val_loss: 0.7011 - val_accuracy: 0.8200\n",
      "Epoch 64/100\n",
      "18/18 [==============================] - 7s 364ms/step - loss: 0.3313 - accuracy: 0.8705 - val_loss: 0.7492 - val_accuracy: 0.8000\n",
      "Epoch 65/100\n",
      "18/18 [==============================] - 7s 372ms/step - loss: 0.6775 - accuracy: 0.8058 - val_loss: 0.8431 - val_accuracy: 0.7600\n",
      "Epoch 66/100\n",
      "18/18 [==============================] - 7s 368ms/step - loss: 0.4852 - accuracy: 0.8489 - val_loss: 0.6376 - val_accuracy: 0.8000\n",
      "Epoch 67/100\n",
      "18/18 [==============================] - 6s 353ms/step - loss: 0.3893 - accuracy: 0.8453 - val_loss: 0.7330 - val_accuracy: 0.8000\n",
      "Epoch 68/100\n",
      "18/18 [==============================] - 7s 380ms/step - loss: 0.2987 - accuracy: 0.8669 - val_loss: 0.8484 - val_accuracy: 0.8100\n",
      "Epoch 69/100\n",
      "18/18 [==============================] - 7s 372ms/step - loss: 0.2440 - accuracy: 0.8993 - val_loss: 0.7125 - val_accuracy: 0.7900\n",
      "Epoch 70/100\n",
      "18/18 [==============================] - 7s 364ms/step - loss: 0.2758 - accuracy: 0.8993 - val_loss: 0.7008 - val_accuracy: 0.8200\n",
      "Epoch 71/100\n",
      "18/18 [==============================] - 7s 380ms/step - loss: 0.2361 - accuracy: 0.8993 - val_loss: 0.8373 - val_accuracy: 0.8400\n",
      "Epoch 72/100\n",
      "18/18 [==============================] - 7s 370ms/step - loss: 0.3557 - accuracy: 0.8597 - val_loss: 0.8157 - val_accuracy: 0.7800\n",
      "Epoch 73/100\n",
      "18/18 [==============================] - 7s 369ms/step - loss: 0.3157 - accuracy: 0.8633 - val_loss: 0.7282 - val_accuracy: 0.7800\n",
      "Epoch 74/100\n",
      "18/18 [==============================] - 7s 362ms/step - loss: 0.3259 - accuracy: 0.8381 - val_loss: 0.7982 - val_accuracy: 0.8100\n",
      "Epoch 75/100\n",
      "18/18 [==============================] - 7s 364ms/step - loss: 0.3318 - accuracy: 0.8633 - val_loss: 0.7149 - val_accuracy: 0.8300\n",
      "Epoch 76/100\n",
      "18/18 [==============================] - 6s 357ms/step - loss: 0.3093 - accuracy: 0.8777 - val_loss: 0.9443 - val_accuracy: 0.8000\n",
      "Epoch 77/100\n",
      "18/18 [==============================] - 7s 383ms/step - loss: 0.2617 - accuracy: 0.8741 - val_loss: 0.7041 - val_accuracy: 0.8200\n",
      "Epoch 78/100\n",
      "18/18 [==============================] - 7s 381ms/step - loss: 0.3788 - accuracy: 0.8633 - val_loss: 0.5868 - val_accuracy: 0.8100\n",
      "Epoch 79/100\n",
      "18/18 [==============================] - 7s 371ms/step - loss: 0.4160 - accuracy: 0.8705 - val_loss: 0.4858 - val_accuracy: 0.8400\n",
      "Epoch 80/100\n",
      "18/18 [==============================] - 7s 367ms/step - loss: 0.2977 - accuracy: 0.8633 - val_loss: 0.8473 - val_accuracy: 0.8100\n",
      "Epoch 81/100\n",
      "18/18 [==============================] - 7s 373ms/step - loss: 0.3877 - accuracy: 0.8633 - val_loss: 0.5635 - val_accuracy: 0.8000\n",
      "Epoch 82/100\n",
      "18/18 [==============================] - 7s 372ms/step - loss: 0.4359 - accuracy: 0.8058 - val_loss: 0.4567 - val_accuracy: 0.8300\n",
      "Epoch 83/100\n",
      "18/18 [==============================] - 7s 370ms/step - loss: 0.3252 - accuracy: 0.8741 - val_loss: 0.7394 - val_accuracy: 0.8300\n",
      "Epoch 84/100\n",
      "18/18 [==============================] - 7s 373ms/step - loss: 0.3245 - accuracy: 0.8633 - val_loss: 0.5141 - val_accuracy: 0.8000\n",
      "Epoch 85/100\n",
      "18/18 [==============================] - 7s 369ms/step - loss: 0.4124 - accuracy: 0.8165 - val_loss: 0.8285 - val_accuracy: 0.8200\n",
      "Epoch 86/100\n",
      "18/18 [==============================] - 7s 371ms/step - loss: 0.3621 - accuracy: 0.8669 - val_loss: 0.7977 - val_accuracy: 0.8200\n",
      "Epoch 87/100\n",
      "18/18 [==============================] - 7s 363ms/step - loss: 0.3131 - accuracy: 0.8813 - val_loss: 0.5787 - val_accuracy: 0.8200\n",
      "Epoch 88/100\n",
      "18/18 [==============================] - 7s 370ms/step - loss: 0.3398 - accuracy: 0.9065 - val_loss: 0.7195 - val_accuracy: 0.8300\n",
      "Epoch 89/100\n",
      "18/18 [==============================] - 7s 367ms/step - loss: 0.2748 - accuracy: 0.8813 - val_loss: 0.7523 - val_accuracy: 0.7900\n",
      "Epoch 90/100\n",
      "18/18 [==============================] - 7s 369ms/step - loss: 0.3081 - accuracy: 0.9029 - val_loss: 0.6268 - val_accuracy: 0.8100\n",
      "Epoch 91/100\n",
      "18/18 [==============================] - 7s 367ms/step - loss: 0.2888 - accuracy: 0.8993 - val_loss: 0.9131 - val_accuracy: 0.8300\n",
      "Epoch 92/100\n",
      "18/18 [==============================] - 7s 371ms/step - loss: 0.3290 - accuracy: 0.8669 - val_loss: 0.7480 - val_accuracy: 0.8000\n",
      "Epoch 93/100\n",
      "18/18 [==============================] - 7s 362ms/step - loss: 0.3962 - accuracy: 0.8453 - val_loss: 0.6894 - val_accuracy: 0.8200\n",
      "Epoch 94/100\n",
      "18/18 [==============================] - 7s 370ms/step - loss: 0.3208 - accuracy: 0.8741 - val_loss: 1.0787 - val_accuracy: 0.8400\n",
      "Epoch 95/100\n",
      "18/18 [==============================] - 7s 375ms/step - loss: 0.4068 - accuracy: 0.8885 - val_loss: 0.6064 - val_accuracy: 0.8300\n",
      "Epoch 96/100\n",
      "18/18 [==============================] - 6s 361ms/step - loss: 0.3258 - accuracy: 0.8741 - val_loss: 0.5310 - val_accuracy: 0.8400\n",
      "Epoch 97/100\n",
      "18/18 [==============================] - 7s 368ms/step - loss: 0.3902 - accuracy: 0.8813 - val_loss: 0.5442 - val_accuracy: 0.8100\n",
      "Epoch 98/100\n",
      "18/18 [==============================] - 7s 375ms/step - loss: 0.5311 - accuracy: 0.8273 - val_loss: 0.5552 - val_accuracy: 0.8200\n",
      "Epoch 99/100\n",
      "18/18 [==============================] - 7s 371ms/step - loss: 0.3179 - accuracy: 0.8669 - val_loss: 0.6951 - val_accuracy: 0.8200\n",
      "Epoch 100/100\n",
      "18/18 [==============================] - 7s 375ms/step - loss: 0.3067 - accuracy: 0.8921 - val_loss: 0.6286 - val_accuracy: 0.8100\n"
     ]
    }
   ],
   "source": [
    "# fit the model\n",
    "# Run the cell. It will take some time to execute\n",
    "r = model.fit_generator(\n",
    "  training_set,\n",
    "  validation_data=test_set,\n",
    "  epochs=100,\n",
    "  steps_per_epoch= len(training_set),\n",
    "  validation_steps= len(test_set)\n",
    ")"
   ]
  },
  {
   "cell_type": "code",
   "execution_count": null,
   "metadata": {
    "colab": {
     "base_uri": "https://localhost:8080/",
     "height": 532
    },
    "id": "KNlWRD1y-N3Y",
    "outputId": "ce164c5c-ce2e-4360-f375-2d88f01d2a6a"
   },
   "outputs": [
    {
     "data": {
      "image/png": "[encoded data removed]",
      "text/plain": [
       "<Figure size 432x288 with 1 Axes>"
      ]
     },
     "metadata": {
      "needs_background": "light",
      "tags": []
     },
     "output_type": "display_data"
    },
    {
     "data": {
      "image/png": "[encoded data removed]",
      "text/plain": [
       "<Figure size 432x288 with 1 Axes>"
      ]
     },
     "metadata": {
      "needs_background": "light",
      "tags": []
     },
     "output_type": "display_data"
    },
    {
     "data": {
      "text/plain": [
       "<Figure size 432x288 with 0 Axes>"
      ]
     },
     "metadata": {
      "tags": []
     },
     "output_type": "display_data"
    }
   ],
   "source": [
    "# By VGG16 architecture\n",
    "\n",
    "\n",
    "# plot the loss\n",
    "plt.plot(r.history['loss'], label='train loss')\n",
    "plt.plot(r.history['val_loss'], label='val loss')\n",
    "plt.legend()\n",
    "plt.show()\n",
    "plt.savefig('LossVal_loss')\n",
    "\n",
    "# plot the accuracy\n",
    "plt.plot(r.history['accuracy'], label='train acc')\n",
    "plt.plot(r.history['val_accuracy'], label='val acc')\n",
    "plt.legend()\n",
    "plt.show()\n",
    "plt.savefig('AccVal_acc')"
   ]
  },
  {
   "cell_type": "code",
   "execution_count": null,
   "metadata": {
    "colab": {
     "base_uri": "https://localhost:8080/",
     "height": 530
    },
    "id": "qrgGNKi76kQN",
    "outputId": "f83dacf1-9010-47f0-9475-20b329844149"
   },
   "outputs": [
    {
     "data": {
      "image/png": "[encoded data removed]",
      "text/plain": [
       "<Figure size 432x288 with 1 Axes>"
      ]
     },
     "metadata": {
      "needs_background": "light",
      "tags": []
     },
     "output_type": "display_data"
    },
    {
     "data": {
      "image/png": "[encoded data removed]",
      "text/plain": [
       "<Figure size 432x288 with 1 Axes>"
      ]
     },
     "metadata": {
      "needs_background": "light",
      "tags": []
     },
     "output_type": "display_data"
    },
    {
     "data": {
      "text/plain": [
       "<Figure size 432x288 with 0 Axes>"
      ]
     },
     "metadata": {
      "tags": []
     },
     "output_type": "display_data"
    }
   ],
   "source": [
    " b# By Resnet50 architecture\n",
    "\n",
    "\n",
    "# plot the loss\n",
    "plt.plot(r.history['loss'], label='train loss')\n",
    "plt.plot(r.history['val_loss'], label='val loss')\n",
    "plt.legend()\n",
    "plt.show()\n",
    "plt.savefig('LossVal_loss')\n",
    "\n",
    "# plot the accuracy\n",
    "plt.plot(r.history['accuracy'], label='train acc')\n",
    "plt.plot(r.history['val_accuracy'], label='val acc')\n",
    "plt.legend()\n",
    "plt.show()\n",
    "plt.savefig('AccVal_acc')"
   ]
  },
  {
   "cell_type": "code",
   "execution_count": null,
   "metadata": {
    "colab": {
     "base_uri": "https://localhost:8080/",
     "height": 34
    },
    "id": "q3h_r_xC8vJ9",
    "outputId": "98d7442e-ade7-4aa4-cd59-7c8bb412ac40"
   },
   "outputs": [
    {
     "name": "stdout",
     "output_type": "stream",
     "text": [
      "Saved model to disk\n"
     ]
    }
   ],
   "source": [
    "model.save(\"/content/drive/My Drive/colab Dataset/vgg16_model.h5\")\n",
    "print(\"Saved model to disk\")"
   ]
  },
  {
   "cell_type": "code",
   "execution_count": null,
   "metadata": {
    "colab": {
     "base_uri": "https://localhost:8080/",
     "height": 532
    },
    "id": "UY16nZuU3-F0",
    "outputId": "802b0b03-fed3-410c-8385-234d1a72f69a"
   },
   "outputs": [
    {
     "data": {
      "image/png": "[encoded data removed]",
      "text/plain": [
       "<Figure size 432x288 with 1 Axes>"
      ]
     },
     "metadata": {
      "needs_background": "light",
      "tags": []
     },
     "output_type": "display_data"
    },
    {
     "data": {
      "image/png": "[encoded data removed]",
      "text/plain": [
       "<Figure size 432x288 with 1 Axes>"
      ]
     },
     "metadata": {
      "needs_background": "light",
      "tags": []
     },
     "output_type": "display_data"
    },
    {
     "data": {
      "text/plain": [
       "<Figure size 432x288 with 0 Axes>"
      ]
     },
     "metadata": {
      "tags": []
     },
     "output_type": "display_data"
    }
   ],
   "source": [
    " # By Inception architecture\n",
    "\n",
    "\n",
    "# plot the loss\n",
    "plt.plot(r.history['loss'], label='train loss')\n",
    "plt.plot(r.history['val_loss'], label='val loss')\n",
    "plt.legend()\n",
    "plt.show()\n",
    "plt.savefig('LossVal_loss')\n",
    "\n",
    "# plot the accuracy\n",
    "plt.plot(r.history['accuracy'], label='train acc')\n",
    "plt.plot(r.history['val_accuracy'], label='val acc')\n",
    "plt.legend()\n",
    "plt.show()\n",
    "plt.savefig('AccVal_acc')"
   ]
  },
  {
   "cell_type": "code",
   "execution_count": null,
   "metadata": {
    "colab": {
     "base_uri": "https://localhost:8080/",
     "height": 1000
    },
    "id": "JblTNJ_F_RN9",
    "outputId": "779f70a4-539f-4ae7-f69a-60dcc0faef4b"
   },
   "outputs": [
    {
     "data": {
      "text/plain": [
       "array([[1.20179981e-01, 4.40179765e-01, 3.74802679e-01, 6.48375154e-02],\n",
       "       [9.99988675e-01, 1.71156699e-07, 1.12208772e-05, 3.19605284e-08],\n",
       "       [2.75759703e-06, 4.09216264e-05, 8.77558819e-07, 9.99955535e-01],\n",
       "       [2.22384444e-09, 3.36779715e-10, 1.00000000e+00, 2.12808070e-11],\n",
       "       [9.99999642e-01, 5.91412752e-10, 3.37108503e-07, 5.38227379e-11],\n",
       "       [5.97981343e-05, 5.43128699e-05, 1.66369027e-05, 9.99869227e-01],\n",
       "       [8.69622891e-05, 7.33049819e-05, 1.26409186e-05, 9.99827087e-01],\n",
       "       [2.03296188e-02, 1.35059683e-02, 9.61165249e-01, 4.99918219e-03],\n",
       "       [4.40502947e-04, 9.99018192e-01, 2.68395961e-04, 2.72896985e-04],\n",
       "       [2.15223618e-02, 1.54131472e-01, 7.98504531e-01, 2.58415490e-02],\n",
       "       [2.84400024e-02, 7.07604408e-01, 2.41009608e-01, 2.29459032e-02],\n",
       "       [2.18708590e-02, 1.18021265e-01, 8.58942866e-01, 1.16492133e-03],\n",
       "       [3.24723381e-03, 1.15315085e-02, 9.84034777e-01, 1.18657283e-03],\n",
       "       [9.99921560e-01, 2.84915745e-06, 7.40639807e-05, 1.50385381e-06],\n",
       "       [4.40992676e-02, 2.85818223e-02, 9.16032016e-01, 1.12868734e-02],\n",
       "       [8.70811436e-06, 9.99831676e-01, 3.51213112e-06, 1.56131646e-04],\n",
       "       [3.64180841e-03, 9.93793249e-01, 1.09568064e-03, 1.46920525e-03],\n",
       "       [8.31147507e-02, 5.91888666e-01, 2.35185161e-01, 8.98114294e-02],\n",
       "       [1.22264244e-01, 2.42662221e-01, 1.39851242e-01, 4.95222300e-01],\n",
       "       [3.36222261e-12, 1.15666877e-11, 1.18206185e-13, 1.00000000e+00],\n",
       "       [1.19334564e-03, 7.18545914e-03, 9.91611421e-01, 9.75913281e-06],\n",
       "       [6.86137099e-03, 9.84480619e-01, 4.03362047e-03, 4.62437654e-03],\n",
       "       [3.43408919e-06, 9.99990225e-01, 5.44684463e-06, 9.04973831e-07],\n",
       "       [5.03589585e-03, 1.44552775e-02, 3.86465131e-03, 9.76644218e-01],\n",
       "       [8.20336209e-06, 9.99986410e-01, 8.93869469e-07, 4.44155876e-06],\n",
       "       [4.20154422e-04, 8.41158733e-04, 2.92165700e-04, 9.98446524e-01],\n",
       "       [3.21898758e-02, 4.13197912e-02, 9.10812259e-01, 1.56780798e-02],\n",
       "       [3.62856090e-02, 1.46363735e-01, 3.34478244e-02, 7.83902884e-01],\n",
       "       [2.36683711e-02, 9.37888086e-01, 1.70781333e-02, 2.13654991e-02],\n",
       "       [9.99788821e-01, 1.25149081e-05, 1.90149149e-04, 8.53884649e-06],\n",
       "       [1.41284615e-03, 3.53338756e-03, 9.94455516e-01, 5.98318235e-04],\n",
       "       [5.50160604e-03, 9.68476236e-01, 2.17963792e-02, 4.22572531e-03],\n",
       "       [4.54722203e-06, 6.67047698e-06, 1.32185392e-06, 9.99987483e-01],\n",
       "       [1.99203834e-01, 7.85964608e-01, 8.73267278e-03, 6.09890604e-03],\n",
       "       [1.54800282e-03, 1.48689758e-03, 6.95318216e-04, 9.96269703e-01],\n",
       "       [1.25801202e-03, 9.97746289e-01, 3.70027381e-04, 6.25674787e-04],\n",
       "       [9.96433496e-01, 1.90098377e-04, 3.18445824e-03, 1.92026331e-04],\n",
       "       [9.23625946e-01, 7.30692130e-03, 6.62632659e-02, 2.80395406e-03],\n",
       "       [3.35070007e-02, 1.45731330e-01, 8.18738103e-01, 2.02360633e-03],\n",
       "       [7.91188795e-04, 9.97930765e-01, 2.65975279e-04, 1.01201772e-03],\n",
       "       [1.23167065e-05, 9.99981046e-01, 1.42646138e-06, 5.21458560e-06],\n",
       "       [9.66562880e-07, 4.82767882e-06, 9.99993682e-01, 4.61263198e-07],\n",
       "       [4.70430702e-02, 1.19819827e-01, 5.59800565e-02, 7.77157009e-01],\n",
       "       [6.46853354e-04, 2.20059138e-03, 9.96887743e-01, 2.64781382e-04],\n",
       "       [8.28240502e-07, 8.09114511e-07, 9.99998331e-01, 7.83427823e-10],\n",
       "       [2.02949881e-03, 4.15307889e-03, 9.93743002e-01, 7.43849014e-05],\n",
       "       [5.60363196e-02, 1.65664479e-01, 6.84861839e-01, 9.34374630e-02],\n",
       "       [9.97958064e-01, 1.34628763e-05, 2.02370668e-03, 4.80641074e-06],\n",
       "       [9.99904037e-01, 3.92056336e-07, 9.54665593e-05, 1.19257606e-07],\n",
       "       [9.14323842e-04, 3.07005085e-03, 9.95823741e-01, 1.91803629e-04],\n",
       "       [2.44168583e-02, 9.08220857e-02, 2.33933087e-02, 8.61367762e-01],\n",
       "       [1.56052142e-01, 2.21307248e-01, 4.72019285e-01, 1.50621235e-01],\n",
       "       [3.84406769e-04, 1.10154867e-03, 2.46955897e-04, 9.98267055e-01],\n",
       "       [9.96548951e-01, 1.26994128e-04, 3.27266450e-03, 5.14494241e-05],\n",
       "       [8.09378165e-04, 4.31803381e-03, 9.94864643e-01, 8.00285761e-06],\n",
       "       [1.49762332e-01, 2.08936468e-01, 5.03744900e-01, 1.37556300e-01],\n",
       "       [5.80410540e-01, 4.05373037e-01, 9.96430125e-03, 4.25216043e-03],\n",
       "       [1.65459918e-04, 1.64872548e-03, 9.97873425e-01, 3.12379067e-04],\n",
       "       [3.95792983e-02, 1.18194826e-01, 7.82378495e-01, 5.98473996e-02],\n",
       "       [9.76518214e-01, 1.49938394e-03, 2.12550312e-02, 7.27404316e-04],\n",
       "       [2.77122628e-04, 2.10164741e-04, 1.02862105e-04, 9.99409914e-01],\n",
       "       [3.60904073e-06, 4.07791094e-06, 3.10721111e-06, 9.99989271e-01],\n",
       "       [9.98510778e-01, 5.31991755e-05, 1.42324122e-03, 1.26998684e-05],\n",
       "       [3.09583813e-01, 1.52009144e-01, 4.59019154e-01, 7.93878585e-02],\n",
       "       [7.99310729e-10, 2.40247546e-14, 1.00000000e+00, 3.02049205e-14],\n",
       "       [9.66444016e-02, 1.16457924e-01, 7.37349093e-01, 4.95486297e-02],\n",
       "       [2.18864011e-06, 9.99997377e-01, 1.09242229e-07, 3.47187637e-07],\n",
       "       [6.37532154e-04, 8.05389136e-03, 9.91299093e-01, 9.44659587e-06],\n",
       "       [9.99500871e-01, 2.24081523e-05, 4.62982542e-04, 1.37641282e-05],\n",
       "       [4.20965701e-02, 1.65073469e-01, 7.25663900e-01, 6.71661124e-02],\n",
       "       [9.62272882e-01, 3.67374625e-03, 3.31586376e-02, 8.94730154e-04],\n",
       "       [1.29636994e-03, 2.02855619e-04, 9.98479545e-01, 2.11623246e-05],\n",
       "       [9.99670148e-01, 2.15340260e-05, 3.04475485e-04, 3.83663519e-06],\n",
       "       [1.64204350e-04, 9.99311209e-01, 7.41162439e-05, 4.50485153e-04],\n",
       "       [5.36118150e-02, 7.72785485e-01, 5.23406304e-02, 1.21262066e-01],\n",
       "       [7.23244667e-01, 1.46608800e-02, 2.52747178e-01, 9.34729539e-03],\n",
       "       [9.99999642e-01, 2.03032813e-09, 3.09590433e-07, 3.82454152e-10],\n",
       "       [2.06712377e-03, 9.95591938e-01, 6.63583574e-04, 1.67730777e-03],\n",
       "       [4.14428145e-01, 1.97312571e-02, 5.58807671e-01, 7.03296112e-03],\n",
       "       [9.99766529e-01, 1.25661813e-06, 2.31728642e-04, 3.98993990e-07],\n",
       "       [7.49781132e-02, 2.66301751e-01, 5.87530255e-01, 7.11898878e-02],\n",
       "       [9.98832881e-01, 2.96560665e-05, 1.12838612e-03, 9.11233747e-06],\n",
       "       [4.24671452e-03, 6.45706723e-06, 9.95746315e-01, 5.28079283e-07],\n",
       "       [1.54104739e-04, 1.16072137e-04, 4.85817473e-05, 9.99681234e-01],\n",
       "       [1.59451327e-14, 7.56523083e-16, 1.22215340e-16, 1.00000000e+00],\n",
       "       [9.65660751e-01, 1.88702270e-02, 1.41212605e-02, 1.34781166e-03],\n",
       "       [1.05024893e-02, 9.76633608e-01, 4.09851130e-03, 8.76543019e-03],\n",
       "       [8.12736992e-03, 3.35398763e-02, 8.71946275e-01, 8.63865018e-02],\n",
       "       [3.83592746e-03, 9.95234907e-01, 6.60938444e-04, 2.68203381e-04],\n",
       "       [5.61763421e-02, 2.78442293e-01, 6.60777628e-01, 4.60378593e-03],\n",
       "       [2.48941447e-04, 9.99479711e-01, 6.60672376e-05, 2.05399716e-04],\n",
       "       [1.98636099e-05, 1.40287275e-05, 5.41561758e-06, 9.99960780e-01],\n",
       "       [4.87495482e-01, 7.36959949e-02, 1.01637118e-01, 3.37171465e-01],\n",
       "       [2.49465793e-05, 6.09187991e-05, 3.72464933e-06, 9.99910474e-01],\n",
       "       [9.99992371e-01, 1.49404556e-07, 7.42020347e-06, 1.20836390e-07],\n",
       "       [2.91807787e-03, 9.81534064e-01, 8.79129767e-03, 6.75661396e-03],\n",
       "       [1.55777761e-05, 6.84049519e-05, 9.99911904e-01, 4.07029120e-06],\n",
       "       [2.26564900e-08, 9.49638235e-09, 8.98675467e-10, 1.00000000e+00],\n",
       "       [2.80763255e-04, 1.20561563e-04, 1.07079351e-04, 9.99491572e-01],\n",
       "       [9.73511953e-03, 9.77210879e-01, 6.11444423e-03, 6.93949498e-03]],\n",
       "      dtype=float32)"
      ]
     },
     "execution_count": 30,
     "metadata": {
      "tags": []
     },
     "output_type": "execute_result"
    }
   ],
   "source": [
    "y_pred= model.predict(test_set)\n",
    "\n",
    "y_pred"
   ]
  },
  {
   "cell_type": "code",
   "execution_count": null,
   "metadata": {
    "colab": {
     "base_uri": "https://localhost:8080/",
     "height": 34
    },
    "id": "b9NtVIj4KrwK",
    "outputId": "d4a7e1a8-4267-4ce3-d425-ea81d526a64d"
   },
   "outputs": [
    {
     "data": {
      "text/plain": [
       "<tensorflow.python.keras.preprocessing.image.DirectoryIterator at 0x7f673006f080>"
      ]
     },
     "execution_count": 35,
     "metadata": {
      "tags": []
     },
     "output_type": "execute_result"
    }
   ],
   "source": [
    "test_set"
   ]
  },
  {
   "cell_type": "code",
   "execution_count": null,
   "metadata": {
    "id": "guI9MmeP_RSv"
   },
   "outputs": [],
   "source": [
    "import numpy as np\n",
    "y_pred_class = np.argmax(y_pred, axis=1)"
   ]
  },
  {
   "cell_type": "code",
   "execution_count": null,
   "metadata": {
    "colab": {
     "base_uri": "https://localhost:8080/",
     "height": 101
    },
    "id": "JTqSbpGNAKg_",
    "outputId": "4e141861-0eb7-4d84-9cd0-1de6bce486c9"
   },
   "outputs": [
    {
     "data": {
      "text/plain": [
       "array([1, 0, 3, 2, 0, 3, 3, 2, 1, 2, 1, 2, 2, 0, 2, 1, 1, 1, 3, 3, 2, 1,\n",
       "       1, 3, 1, 3, 2, 3, 1, 0, 2, 1, 3, 1, 3, 1, 0, 0, 2, 1, 1, 2, 3, 2,\n",
       "       2, 2, 2, 0, 0, 2, 3, 2, 3, 0, 2, 2, 0, 2, 2, 0, 3, 3, 0, 2, 2, 2,\n",
       "       1, 2, 0, 2, 0, 2, 0, 1, 1, 0, 0, 1, 2, 0, 2, 0, 2, 3, 3, 0, 1, 2,\n",
       "       1, 2, 1, 3, 0, 3, 0, 1, 2, 3, 3, 1])"
      ]
     },
     "execution_count": 32,
     "metadata": {
      "tags": []
     },
     "output_type": "execute_result"
    }
   ],
   "source": [
    "y_pred_class"
   ]
  },
  {
   "cell_type": "code",
   "execution_count": null,
   "metadata": {
    "colab": {
     "base_uri": "https://localhost:8080/",
     "height": 34
    },
    "id": "aSD9e0gYIIb_",
    "outputId": "b388352e-1404-4869-89ec-6d11ceff5ec3"
   },
   "outputs": [
    {
     "name": "stdout",
     "output_type": "stream",
     "text": [
      "{'bmw': 0, 'lamborgini': 1, 'mercedes': 2, 'tesla': 3}\n"
     ]
    }
   ],
   "source": [
    "labels= training_set.class_indices\n",
    "print(labels)"
   ]
  },
  {
   "cell_type": "code",
   "execution_count": null,
   "metadata": {
    "colab": {
     "base_uri": "https://localhost:8080/",
     "height": 84
    },
    "id": "Ub5qsmUrNo0D",
    "outputId": "a5f5aad0-2d07-4919-ade8-0ff92a89ae1e"
   },
   "outputs": [
    {
     "name": "stdout",
     "output_type": "stream",
     "text": [
      "0\n",
      "1\n",
      "2\n",
      "3\n"
     ]
    }
   ],
   "source": [
    "for i in labels.values():\n",
    "  print(i)"
   ]
  },
  {
   "cell_type": "code",
   "execution_count": null,
   "metadata": {
    "id": "jNaLcBrJArLP"
   },
   "outputs": [],
   "source": [
    "\n",
    "\n",
    "from tensorflow.keras.models import load_model\n",
    "from tensorflow.keras.preprocessing import image\n"
   ]
  },
  {
   "cell_type": "code",
   "execution_count": null,
   "metadata": {
    "id": "b28pEtpHArR2"
   },
   "outputs": [],
   "source": [
    "# img=image.load_img('/content/drive/My Drive/colab Dataset/test/tesla/jpg_94.jpg',target_size=(224,224))\n",
    "# \n",
    "img=image.load_img('/content/drive/My Drive/colab Dataset/download.jpg', target_size=(224,224))"
   ]
  },
  {
   "cell_type": "code",
   "execution_count": null,
   "metadata": {
    "colab": {
     "base_uri": "https://localhost:8080/",
     "height": 34
    },
    "id": "Khzk3IUzArbq",
    "outputId": "ec5fd87e-09bd-4371-87c6-6707742d4bf8"
   },
   "outputs": [
    {
     "data": {
      "text/plain": [
       "(224, 224, 3)"
      ]
     },
     "execution_count": 54,
     "metadata": {
      "tags": []
     },
     "output_type": "execute_result"
    }
   ],
   "source": [
    "x= image.img_to_array(img)\n",
    "x.shape"
   ]
  },
  {
   "cell_type": "code",
   "execution_count": null,
   "metadata": {
    "colab": {
     "base_uri": "https://localhost:8080/",
     "height": 34
    },
    "id": "YQrF7YPUBjD_",
    "outputId": "a25c295a-f773-470d-ddf6-8b8ac22ad62e"
   },
   "outputs": [
    {
     "data": {
      "text/plain": [
       "(224, 224, 3)"
      ]
     },
     "execution_count": 55,
     "metadata": {
      "tags": []
     },
     "output_type": "execute_result"
    }
   ],
   "source": [
    "x=x/255\n",
    "# z= model.predict(x)\n",
    "x.shape"
   ]
  },
  {
   "cell_type": "code",
   "execution_count": null,
   "metadata": {
    "colab": {
     "base_uri": "https://localhost:8080/",
     "height": 34
    },
    "id": "-jopde9EBjBm",
    "outputId": "d5b078cd-4eec-4db9-e1f3-d970ab45e8b0"
   },
   "outputs": [
    {
     "data": {
      "text/plain": [
       "(1, 224, 224, 3)"
      ]
     },
     "execution_count": 56,
     "metadata": {
      "tags": []
     },
     "output_type": "execute_result"
    }
   ],
   "source": [
    "x=np.expand_dims(x, axis=0)\n",
    "# print(x)\n",
    "# img_data=preprocess_input(x)\n",
    "# img_data.shape\n",
    "x.shape"
   ]
  },
  {
   "cell_type": "code",
   "execution_count": null,
   "metadata": {
    "colab": {
     "base_uri": "https://localhost:8080/",
     "height": 34
    },
    "id": "eodSI2JABi-d",
    "outputId": "320aa32b-ff61-43bd-b300-6f410bcee749"
   },
   "outputs": [
    {
     "data": {
      "text/plain": [
       "array([[0.1889977 , 0.45597205, 0.14884958, 0.2061807 ]], dtype=float32)"
      ]
     },
     "execution_count": 57,
     "metadata": {
      "tags": []
     },
     "output_type": "execute_result"
    }
   ],
   "source": [
    "y_pred= model.predict(x)\n",
    "y_pred"
   ]
  },
  {
   "cell_type": "code",
   "execution_count": null,
   "metadata": {
    "colab": {
     "base_uri": "https://localhost:8080/",
     "height": 34
    },
    "id": "BgRIouwWDGW1",
    "outputId": "c4dacbd9-3042-490d-96d8-6e4e834b5f8a"
   },
   "outputs": [
    {
     "data": {
      "text/plain": [
       "array([1])"
      ]
     },
     "execution_count": 58,
     "metadata": {
      "tags": []
     },
     "output_type": "execute_result"
    }
   ],
   "source": [
    "a=np.argmax(y_pred, axis=1)\n",
    "a"
   ]
  },
  {
   "cell_type": "code",
   "execution_count": null,
   "metadata": {
    "colab": {
     "base_uri": "https://localhost:8080/",
     "height": 34
    },
    "id": "ZF0pkwjJOD_w",
    "outputId": "07646ab1-024c-4f94-cbee-217653c20b99"
   },
   "outputs": [
    {
     "name": "stdout",
     "output_type": "stream",
     "text": [
      "lamborgini\n"
     ]
    }
   ],
   "source": [
    "for key,value in labels.items():\n",
    "  if a==value:\n",
    "    print(key)"
   ]
  },
  {
   "cell_type": "code",
   "execution_count": null,
   "metadata": {
    "id": "RACxcGOnDGoa"
   },
   "outputs": [],
   "source": [
    "vgg_model=load_model('/content/drive/My Drive/colab Dataset/vgg16_model.h5')"
   ]
  },
  {
   "cell_type": "code",
   "execution_count": null,
   "metadata": {
    "id": "rxWIu5UlDGSE"
   },
   "outputs": [],
   "source": [
    "img=image.load_img('/content/drive/My Drive/colab Dataset/train/bmw/jpg_30.jpg',target_size=(224,224))"
   ]
  },
  {
   "cell_type": "code",
   "execution_count": null,
   "metadata": {
    "colab": {
     "base_uri": "https://localhost:8080/",
     "height": 34
    },
    "id": "MDWWLeMGE4lq",
    "outputId": "230bd557-5b50-4aed-ef30-4862e2e00092"
   },
   "outputs": [
    {
     "data": {
      "text/plain": [
       "(224, 224, 3)"
      ]
     },
     "execution_count": 25,
     "metadata": {
      "tags": []
     },
     "output_type": "execute_result"
    }
   ],
   "source": [
    "x= image.img_to_array(img)\n",
    "x=x/255\n",
    "x.shape"
   ]
  },
  {
   "cell_type": "code",
   "execution_count": null,
   "metadata": {
    "colab": {
     "base_uri": "https://localhost:8080/",
     "height": 34
    },
    "id": "JVVen-bAE4xy",
    "outputId": "c774d83b-383a-4641-add3-10220a3882cc"
   },
   "outputs": [
    {
     "data": {
      "text/plain": [
       "(1, 224, 224, 3)"
      ]
     },
     "execution_count": 26,
     "metadata": {
      "tags": []
     },
     "output_type": "execute_result"
    }
   ],
   "source": [
    "x=np.expand_dims(x,axis=0)\n",
    "# print(x)\n",
    "img_data=preprocess_input(x)\n",
    "img_data.shape"
   ]
  },
  {
   "cell_type": "code",
   "execution_count": null,
   "metadata": {
    "colab": {
     "base_uri": "https://localhost:8080/",
     "height": 50
    },
    "id": "013TG5GLE494",
    "outputId": "b2011c3b-e52f-4739-d1cb-715c61179a17"
   },
   "outputs": [
    {
     "data": {
      "text/plain": [
       "array([[4.6870941e-03, 3.1001908e-03, 9.9219066e-01, 2.1984353e-05]],\n",
       "      dtype=float32)"
      ]
     },
     "execution_count": 27,
     "metadata": {
      "tags": []
     },
     "output_type": "execute_result"
    }
   ],
   "source": [
    "a= vgg_model.predict(img_data)\n",
    "a"
   ]
  },
  {
   "cell_type": "code",
   "execution_count": null,
   "metadata": {
    "colab": {
     "base_uri": "https://localhost:8080/",
     "height": 34
    },
    "id": "0Ip5WMKTE5JJ",
    "outputId": "d904063c-39f5-400c-c7e7-45808758cc76"
   },
   "outputs": [
    {
     "data": {
      "text/plain": [
       "array([2])"
      ]
     },
     "execution_count": 28,
     "metadata": {
      "tags": []
     },
     "output_type": "execute_result"
    }
   ],
   "source": [
    "a=np.argmax(vgg_model.predict(img_data), axis=1)\n",
    "a"
   ]
  },
  {
   "cell_type": "code",
   "execution_count": null,
   "metadata": {
    "id": "MOXqXheyE5VC"
   },
   "outputs": [],
   "source": []
  },
  {
   "cell_type": "code",
   "execution_count": null,
   "metadata": {
    "id": "VpfX9HmY8PZh"
   },
   "outputs": [],
   "source": [
    "import numpy as np\n",
    "from keras.preprocessing import image\n",
    "test_image = image.load_img('/Users/sudhanshukumar/Downloads/cat.11.jpg', target_size = (64, 64))\n",
    "test_image = image.img_to_array(test_image)\n",
    "test_image = np.expand_dims(test_image, axis = 0)\n",
    "result = model.predict(test_image)\n",
    "training_set.class_indices\n",
    "if result[0][0] == 1:\n",
    "    prediction = 'dog'\n",
    "    print(prediction)\n",
    "else:\n",
    "    prediction = 'cat'\n",
    "    print(prediction)"
   ]
  },
  {
   "cell_type": "code",
   "execution_count": null,
   "metadata": {
    "colab": {
     "base_uri": "https://localhost:8080/",
     "height": 34
    },
    "id": "XmunociCILsN",
    "outputId": "b19a876e-93bd-4f84-acc9-fbfb945f3430"
   },
   "outputs": [
    {
     "name": "stdout",
     "output_type": "stream",
     "text": [
      "(200, 200, 3)\n"
     ]
    }
   ],
   "source": [
    "from PIL import Image\n",
    "import numpy as np\n",
    "img_w, img_h = 200, 200\n",
    "data = np.zeros((img_h, img_w, 3), dtype=np.uint8)\n",
    "data[100, 100] = [255, 0, 0]\n",
    "print(data.shape)\n",
    "# img = Image.fromarray(data, 'RGB')\n",
    "# img.save('test.png')\n",
    "# img.show()"
   ]
  },
  {
   "cell_type": "code",
   "execution_count": null,
   "metadata": {
    "id": "CpLLUBvWJfTx"
   },
   "outputs": [],
   "source": []
  }
 ],
 "metadata": {
  "accelerator": "GPU",
  "colab": {
   "collapsed_sections": [],
   "name": "Car_brand_classfiier",
   "provenance": []
  },
  "kernelspec": {
   "display_name": "Python 3",
   "language": "python",
   "name": "python3"
  },
  "language_info": {
   "codemirror_mode": {
    "name": "ipython",
    "version": 3
   },
   "file_extension": ".py",
   "mimetype": "text/x-python",
   "name": "python",
   "nbconvert_exporter": "python",
   "pygments_lexer": "ipython3",
   "version": "3.7.6"
  }
 },
 "nbformat": 4,
 "nbformat_minor": 1
}
